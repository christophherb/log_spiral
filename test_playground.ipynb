{
 "cells": [],
 "metadata": {
  "kernelspec": {
   "name": "python3",
   "display_name": "Python 3.8.5 64-bit ('clean': conda)"
  },
  "language_info": {
   "codemirror_mode": {
    "name": "ipython",
    "version": 3
   },
   "file_extension": ".py",
   "mimetype": "text/x-python",
   "name": "python",
   "nbconvert_exporter": "python",
   "pygments_lexer": "ipython3",
   "version": "3.8.5"
  },
  "interpreter": {
   "hash": "59cd01910098d816fa2d15b4983a0efcbec4dd75a4bcd242d0d4fbf36b80f1ec"
  }
 },
 "nbformat": 4,
 "nbformat_minor": 4
}