{
 "cells": [
  {
   "cell_type": "code",
   "execution_count": 2,
   "metadata": {},
   "outputs": [
    {
     "output_type": "stream",
     "name": "stdout",
     "text": [
      "-1.1111707845935506\n"
     ]
    },
    {
     "output_type": "execute_result",
     "data": {
      "text/plain": [
       "nan"
      ]
     },
     "metadata": {},
     "execution_count": 2
    }
   ],
   "source": [
    "from numpy import log,sin,cos,pi,exp,tan\n",
    "\n",
    "def calc_one(r,b,m,phi):\n",
    "    print(b/(r*(sin(phi)-m*cos(phi))))\n",
    "    return log(b/(r*(sin(phi)-m*cos(phi))))/b\n",
    "\n",
    "calc_one(1,0.1,0.1,0.01)"
   ]
  },
  {
   "cell_type": "code",
   "execution_count": 119,
   "metadata": {},
   "outputs": [],
   "source": [
    "import numpy as np\n",
    "import matplotlib.pyplot as plt\n",
    "class LogSpiral:\n",
    "    def __init__(self, psi, xh=1):\n",
    "        rad_psi = psi*np.pi/180\n",
    "        self.k = 1/np.tan(rad_psi)\n",
    "        def func(theta):\n",
    "            return xh*np.exp(self.k*theta)\n",
    "        self.rad_psi = rad_psi\n",
    "        self.func = func\n",
    "        self.xh = xh\n",
    "    \n",
    "    def plot_spiral(self, theta_range):\n",
    "        fig,ax = plt.subplots(1)\n",
    "        x_spiral = np.cos(theta_range)*self.func(theta_range)\n",
    "        y_spiral = self.func(theta_range)*np.sin(theta_range)\n",
    "        ax.plot(x_spiral, y_spiral, linestyle='-', marker=' ')\n",
    "        ylims = ax.get_ylim()\n",
    "        ax.set_ylim(0,ylims[1])\n",
    "        ax.set_aspect('equal')\n",
    "        for y_final in np.linspace(0, y_spiral[-1], 10):\n",
    "            print(y_final)\n",
    "            ax.plot([0, x_spiral[-1]*2], [0, y_final], linestyle = '-', marker=' ', color='black')\n",
    "\n",
    "\n",
    "class LogSpiralMirror:\n",
    "    def __init__(self, xstart, xend, psi):\n",
    "        self.xstart = xstart\n",
    "        self.theta_start = 0\n",
    "        self.xend = xend\n",
    "        self.psi = psi\n",
    "        self.psi_rad = np.pi/180*psi\n",
    "        self.k = 1/np.tan(self.psi_rad)\n",
    "        self.function = lambda theta: np.cos(theta)*self.xstart*np.exp(self.k*theta)-self.xend\n",
    "        self.derivative = lambda theta: self.xstart*np.exp(self.k*theta)*(np.cos(theta)*self.k-np.sin(theta))\n",
    "\n",
    "    def return_r(self, theta):\n",
    "        return self.xstart*np.exp(self.k*theta)\n",
    "\n",
    "    def return_cart_coords(self, theta):\n",
    "        r = self.return_r(theta)\n",
    "        x = np.cos(theta)*r\n",
    "        y = np.sin(theta)*r\n",
    "        return x,y\n",
    "\n",
    "    def return_prelim_theta(self):\n",
    "        prelim_theta = np.log(self.xend/self.xstart)*1/self.k\n",
    "        return prelim_theta\n",
    "\n",
    "    def return_precise_theta(self, max_iterations=10, precision=10**-5):\n",
    "        x_0 = self.return_prelim_theta()\n",
    "        for k in range(max_iterations):\n",
    "            x_n = x_0 - self.function(x_0)/self.derivative(x_0)\n",
    "\n",
    "            if abs(x_0-x_n) < precision:\n",
    "                return x_n\n",
    "            x_0 = x_n\n",
    "        return None\n",
    "\n",
    "    def update_theta_end(self, max_iterations=10, precision=10**-5):\n",
    "        self.theta_end = self.return_precise_theta(max_iterations=max_iterations, precision=precision)\n",
    "\n",
    "    def return_equiv_line(self):\n",
    "        xstart = self.xstart\n",
    "        ystart = 0\n",
    "        theta = self.return_precise_theta() \n",
    "        xend,yend = self.return_cart_coords(theta)\n",
    "\n"
   ]
  },
  {
   "cell_type": "code",
   "execution_count": 120,
   "metadata": {},
   "outputs": [
    {
     "output_type": "stream",
     "name": "stdout",
     "text": [
      "0.012100206914398618\n"
     ]
    },
    {
     "output_type": "execute_result",
     "data": {
      "text/plain": [
       "(2.0, 0.02420159499923009)"
      ]
     },
     "metadata": {},
     "execution_count": 120
    }
   ],
   "source": [
    "%matplotlib qt\n",
    "L = LogSpiralMirror(1,2,1)\n",
    "L.update_theta_end(precision=10**-6)\n",
    "print(L.theta_end)\n",
    "L.return_cart_coords(L.theta_end)"
   ]
  },
  {
   "cell_type": "code",
   "execution_count": 116,
   "metadata": {},
   "outputs": [
    {
     "output_type": "stream",
     "name": "stdout",
     "text": [
      "0.012098929041484803\n",
      "x0 0.012098929041484803 xn 0.012100206961151709\n",
      "x0 0.012100206961151709 xn 0.012100206914398618\n",
      "x0 0.012100206914398618 xn 0.012100206914398618\n",
      "iterations 2\n",
      "x0 0.012098929041484803 xn 0.012100206961151709\n",
      "x0 0.012100206961151709 xn 0.012100206914398618\n",
      "x0 0.012100206914398618 xn 0.012100206914398618\n",
      "iterations 2\n"
     ]
    },
    {
     "output_type": "execute_result",
     "data": {
      "text/plain": [
       "[<matplotlib.lines.Line2D at 0x7fba88b28310>]"
      ]
     },
     "metadata": {},
     "execution_count": 116
    }
   ],
   "source": [
    "# test case \n",
    "xs = 1\n",
    "xe = 2\n",
    "psi = 1#deg\n",
    "psi_rad = np.pi/180*psi\n",
    "k = 1/np.tan(psi_rad)\n",
    "prelim_theta_end = np.log(xe/xs)/k\n",
    "function = lambda theta: np.cos(theta)*xs*np.exp(k*theta)-xe\n",
    "derivative = lambda theta: xs*np.exp(k*theta)*(np.cos(theta)*k-np.sin(theta))\n",
    "\n",
    "\n",
    "print(prelim_theta_end)\n",
    "\n",
    "def newton(x0, func, deriv, prec=0.00000000001):\n",
    "    for k in range(100):\n",
    "        xn = x0 - func(x0)/deriv(x0)\n",
    "        print('x0', x0, 'xn', xn)\n",
    "        if abs(xn-x0) < prec:\n",
    "            print('iterations {}'.format(k))\n",
    "            return xn\n",
    "        x0 = xn\n",
    "    return None\n",
    "theta_range = np.linspace(0,prelim_theta_end*2,100)\n",
    "fig,ax = plt.subplots(1)\n",
    "ax.plot(theta_range,function(theta_range),linestyle='-', marker=' ')\n",
    "ax.plot([0,0.025],[newton(prelim_theta_end, function, derivative),newton(prelim_theta_end, function, derivative)])\n"
   ]
  },
  {
   "cell_type": "code",
   "execution_count": 89,
   "metadata": {},
   "outputs": [
    {
     "output_type": "stream",
     "name": "stdout",
     "text": [
      "3.7320508075688776\n0\n0.6554010122828375\n0.4730702054332011\n0.3432435284111798\n0.2824386989841595\n0.2711896803455817\n0.27085609879452566 (2.64774867776953, 0.7352269223831615)\n0\n0.6554010122828375\n0.4730702054332011\n0.3432435284111798\n0.2824386989841595\n0.2711896803455817\n4\n3.774522117386749\n3.568065876022619\n3.384712728414591\n3.2316687202272667\n3.1197945836459113\n3.059357182047506\n3.042977108798022\n3.041916534349557\n"
     ]
    },
    {
     "output_type": "execute_result",
     "data": {
      "text/plain": [
       "(-20.0, 20.0)"
      ]
     },
     "metadata": {},
     "execution_count": 89
    }
   ],
   "source": [
    "\n",
    "def newton_spiral(phi,r,b,m,t):\n",
    "    return r*exp(b*phi)*(sin(phi)-m*cos(phi))-t \n",
    "def newton_der_spiral(phi,r,b,m,t):\n",
    "    return r*b*exp(b*phi)*(sin(phi)-m*cos(phi)) + r*exp(b*phi)*(cos(phi)+m*sin(phi))\n",
    "def newtonit(x,params):\n",
    "    '''\n",
    "    everybodys beloved newton thingy\n",
    "    x_n+1 = x_n -f(x_n)/f'(x_n)\n",
    "    '''\n",
    "    x_old = float('Inf')\n",
    "    while True:\n",
    "        if abs(x-x_old) < 10**-3:\n",
    "            break\n",
    "        x_old = x\n",
    "        x = x_old-newton_spiral(x_old,*params)/newton_der_spiral(x_old,*params)\n",
    "        print(x_old)\n",
    "    return x\n",
    "\n",
    "\n",
    "rotations = 1\n",
    "m= -0.1\n",
    "angle = 15#deg\n",
    "b = 1/tan(angle*pi/180)\n",
    "print(b)\n",
    "r = 1\n",
    "t = 1\n",
    "phis = np.linspace(-rotations*2*pi,rotations*2*pi,101*rotations)\n",
    "params = [r,b,m,t]\n",
    "\n",
    "fig,ax = plt.subplots(1)\n",
    "ax.plot(phis,newton_spiral(phis,r,b,m,t),linestyle = '-',marker = ' ')\n",
    "ax.plot(phis,newton_der_spiral(phis,r,b,m,t),linestyle = '-',marker = ' ',color = 'black')\n",
    "ax.hlines(0,0,rotations*2*pi)\n",
    "ax.set_ylim(-10,10)\n",
    "ax.set_xlim(-20,20)\n",
    "\n",
    "\n",
    "phi_inter = newtonit(0,params)\n",
    "r_inter = log_spiral(phi_inter,r,b)\n",
    "print(phi_inter,r_inter)\n",
    "\n",
    "ax.set_title(round(phi_inter*180/pi,4))\n",
    "ax.vlines(newtonit(0,params),-2,2)\n",
    "ax.vlines(newtonit(4,params),-2,2)\n",
    "\n",
    "params = [r,b,m,t]\n",
    "#(newtonit(3,params))-(newtonit(1,params))\n",
    "fig,ax = plt.subplots(1)\n",
    "ax.plot(*log_spiral(phis,r,b),linestyle = '-',marker = ' ')\n",
    "ax.plot(np.linspace(0,40,101),mxt(np.linspace(0,40,101),m,t),linestyle = '-',marker = ' ')\n",
    "ax.plot([0,r_inter[0]],[0,r_inter[1]],linestyle = '-',marker = ' ')\n",
    "ax.set_ylim(-20,20)\n",
    "ax.set_xlim(-20,20)"
   ]
  },
  {
   "cell_type": "code",
   "execution_count": 21,
   "metadata": {},
   "outputs": [
    {
     "data": {
      "text/plain": [
       "(0.7071067811865475, 0.7071067811865476)"
      ]
     },
     "execution_count": 21,
     "metadata": {},
     "output_type": "execute_result"
    }
   ],
   "source": [
    "sin(phi),cos(phi)"
   ]
  },
  {
   "cell_type": "code",
   "execution_count": 1,
   "metadata": {},
   "outputs": [
    {
     "output_type": "stream",
     "name": "stdout",
     "text": [
      "(array([1.        , 1.08231725, 1.17080377, 1.26586747, 1.36793791,\n       1.47746677, 1.59492838, 1.7208201 , 1.85566259, 2.        ]), array([0.        , 0.02463461, 0.05332494, 0.0865568 , 0.12486607,\n       0.16884333, 0.21913887, 0.27646822, 0.34161807, 0.41545266]))\n"
     ]
    },
    {
     "output_type": "execute_result",
     "data": {
      "text/plain": [
       "(0.4154526570748603, -0.41545265707486034)"
      ]
     },
     "metadata": {},
     "execution_count": 1
    },
    {
     "output_type": "display_data",
     "data": {
      "text/plain": "<Figure size 432x288 with 1 Axes>",
      "image/svg+xml": "<?xml version=\"1.0\" encoding=\"utf-8\" standalone=\"no\"?>\n<!DOCTYPE svg PUBLIC \"-//W3C//DTD SVG 1.1//EN\"\n  \"http://www.w3.org/Graphics/SVG/1.1/DTD/svg11.dtd\">\n<!-- Created with matplotlib (https://matplotlib.org/) -->\n<svg height=\"182.656126pt\" version=\"1.1\" viewBox=\"0 0 406.289146 182.656126\" width=\"406.289146pt\" xmlns=\"http://www.w3.org/2000/svg\" xmlns:xlink=\"http://www.w3.org/1999/xlink\">\n <metadata>\n  <rdf:RDF xmlns:cc=\"http://creativecommons.org/ns#\" xmlns:dc=\"http://purl.org/dc/elements/1.1/\" xmlns:rdf=\"http://www.w3.org/1999/02/22-rdf-syntax-ns#\">\n   <cc:Work>\n    <dc:type rdf:resource=\"http://purl.org/dc/dcmitype/StillImage\"/>\n    <dc:date>2020-10-13T17:07:25.851789</dc:date>\n    <dc:format>image/svg+xml</dc:format>\n    <dc:creator>\n     <cc:Agent>\n      <dc:title>Matplotlib v3.3.2, https://matplotlib.org/</dc:title>\n     </cc:Agent>\n    </dc:creator>\n   </cc:Work>\n  </rdf:RDF>\n </metadata>\n <defs>\n  <style type=\"text/css\">*{stroke-linecap:butt;stroke-linejoin:round;}</style>\n </defs>\n <g id=\"figure_1\">\n  <g id=\"patch_1\">\n   <path d=\"M 0 182.656126 \nL 406.289146 182.656126 \nL 406.289146 0 \nL 0 0 \nz\n\" style=\"fill:none;\"/>\n  </g>\n  <g id=\"axes_1\">\n   <g id=\"patch_2\">\n    <path d=\"M 59.7325 156.471126 \nL 394.5325 156.471126 \nL 394.5325 7.2 \nL 59.7325 7.2 \nz\n\" style=\"fill:#ffffff;\"/>\n   </g>\n   <g id=\"matplotlib.axis_1\">\n    <g id=\"xtick_1\">\n     <g id=\"line2d_1\">\n      <defs>\n       <path d=\"M 0 0 \nL 0 -4 \n\" id=\"me2b914ad98\" style=\"stroke:#000000;\"/>\n      </defs>\n      <g>\n       <use style=\"stroke:#000000;\" x=\"59.7325\" xlink:href=\"#me2b914ad98\" y=\"156.471126\"/>\n      </g>\n     </g>\n     <g id=\"line2d_2\">\n      <defs>\n       <path d=\"M 0 0 \nL 0 4 \n\" id=\"m26cd242c7e\" style=\"stroke:#000000;\"/>\n      </defs>\n      <g>\n       <use style=\"stroke:#000000;\" x=\"59.7325\" xlink:href=\"#m26cd242c7e\" y=\"7.2\"/>\n      </g>\n     </g>\n     <g id=\"text_1\">\n      <!-- 0.0 -->\n      <g transform=\"translate(47.01 172.128626)scale(0.16 -0.16)\">\n       <defs>\n        <path d=\"M 31.78125 66.40625 \nQ 24.171875 66.40625 20.328125 58.90625 \nQ 16.5 51.421875 16.5 36.375 \nQ 16.5 21.390625 20.328125 13.890625 \nQ 24.171875 6.390625 31.78125 6.390625 \nQ 39.453125 6.390625 43.28125 13.890625 \nQ 47.125 21.390625 47.125 36.375 \nQ 47.125 51.421875 43.28125 58.90625 \nQ 39.453125 66.40625 31.78125 66.40625 \nz\nM 31.78125 74.21875 \nQ 44.046875 74.21875 50.515625 64.515625 \nQ 56.984375 54.828125 56.984375 36.375 \nQ 56.984375 17.96875 50.515625 8.265625 \nQ 44.046875 -1.421875 31.78125 -1.421875 \nQ 19.53125 -1.421875 13.0625 8.265625 \nQ 6.59375 17.96875 6.59375 36.375 \nQ 6.59375 54.828125 13.0625 64.515625 \nQ 19.53125 74.21875 31.78125 74.21875 \nz\n\" id=\"DejaVuSans-48\"/>\n        <path d=\"M 10.6875 12.40625 \nL 21 12.40625 \nL 21 0 \nL 10.6875 0 \nz\n\" id=\"DejaVuSans-46\"/>\n       </defs>\n       <use xlink:href=\"#DejaVuSans-48\"/>\n       <use x=\"63.623047\" xlink:href=\"#DejaVuSans-46\"/>\n       <use x=\"95.410156\" xlink:href=\"#DejaVuSans-48\"/>\n      </g>\n     </g>\n    </g>\n    <g id=\"xtick_2\">\n     <g id=\"line2d_3\">\n      <g>\n       <use style=\"stroke:#000000;\" x=\"141.391037\" xlink:href=\"#me2b914ad98\" y=\"156.471126\"/>\n      </g>\n     </g>\n     <g id=\"line2d_4\">\n      <g>\n       <use style=\"stroke:#000000;\" x=\"141.391037\" xlink:href=\"#m26cd242c7e\" y=\"7.2\"/>\n      </g>\n     </g>\n     <g id=\"text_2\">\n      <!-- 0.5 -->\n      <g transform=\"translate(128.668537 172.128626)scale(0.16 -0.16)\">\n       <defs>\n        <path d=\"M 10.796875 72.90625 \nL 49.515625 72.90625 \nL 49.515625 64.59375 \nL 19.828125 64.59375 \nL 19.828125 46.734375 \nQ 21.96875 47.46875 24.109375 47.828125 \nQ 26.265625 48.1875 28.421875 48.1875 \nQ 40.625 48.1875 47.75 41.5 \nQ 54.890625 34.8125 54.890625 23.390625 \nQ 54.890625 11.625 47.5625 5.09375 \nQ 40.234375 -1.421875 26.90625 -1.421875 \nQ 22.3125 -1.421875 17.546875 -0.640625 \nQ 12.796875 0.140625 7.71875 1.703125 \nL 7.71875 11.625 \nQ 12.109375 9.234375 16.796875 8.0625 \nQ 21.484375 6.890625 26.703125 6.890625 \nQ 35.15625 6.890625 40.078125 11.328125 \nQ 45.015625 15.765625 45.015625 23.390625 \nQ 45.015625 31 40.078125 35.4375 \nQ 35.15625 39.890625 26.703125 39.890625 \nQ 22.75 39.890625 18.8125 39.015625 \nQ 14.890625 38.140625 10.796875 36.28125 \nz\n\" id=\"DejaVuSans-53\"/>\n       </defs>\n       <use xlink:href=\"#DejaVuSans-48\"/>\n       <use x=\"63.623047\" xlink:href=\"#DejaVuSans-46\"/>\n       <use x=\"95.410156\" xlink:href=\"#DejaVuSans-53\"/>\n      </g>\n     </g>\n    </g>\n    <g id=\"xtick_3\">\n     <g id=\"line2d_5\">\n      <g>\n       <use style=\"stroke:#000000;\" x=\"223.049573\" xlink:href=\"#me2b914ad98\" y=\"156.471126\"/>\n      </g>\n     </g>\n     <g id=\"line2d_6\">\n      <g>\n       <use style=\"stroke:#000000;\" x=\"223.049573\" xlink:href=\"#m26cd242c7e\" y=\"7.2\"/>\n      </g>\n     </g>\n     <g id=\"text_3\">\n      <!-- 1.0 -->\n      <g transform=\"translate(210.327073 172.128626)scale(0.16 -0.16)\">\n       <defs>\n        <path d=\"M 12.40625 8.296875 \nL 28.515625 8.296875 \nL 28.515625 63.921875 \nL 10.984375 60.40625 \nL 10.984375 69.390625 \nL 28.421875 72.90625 \nL 38.28125 72.90625 \nL 38.28125 8.296875 \nL 54.390625 8.296875 \nL 54.390625 0 \nL 12.40625 0 \nz\n\" id=\"DejaVuSans-49\"/>\n       </defs>\n       <use xlink:href=\"#DejaVuSans-49\"/>\n       <use x=\"63.623047\" xlink:href=\"#DejaVuSans-46\"/>\n       <use x=\"95.410156\" xlink:href=\"#DejaVuSans-48\"/>\n      </g>\n     </g>\n    </g>\n    <g id=\"xtick_4\">\n     <g id=\"line2d_7\">\n      <g>\n       <use style=\"stroke:#000000;\" x=\"304.70811\" xlink:href=\"#me2b914ad98\" y=\"156.471126\"/>\n      </g>\n     </g>\n     <g id=\"line2d_8\">\n      <g>\n       <use style=\"stroke:#000000;\" x=\"304.70811\" xlink:href=\"#m26cd242c7e\" y=\"7.2\"/>\n      </g>\n     </g>\n     <g id=\"text_4\">\n      <!-- 1.5 -->\n      <g transform=\"translate(291.98561 172.128626)scale(0.16 -0.16)\">\n       <use xlink:href=\"#DejaVuSans-49\"/>\n       <use x=\"63.623047\" xlink:href=\"#DejaVuSans-46\"/>\n       <use x=\"95.410156\" xlink:href=\"#DejaVuSans-53\"/>\n      </g>\n     </g>\n    </g>\n    <g id=\"xtick_5\">\n     <g id=\"line2d_9\">\n      <g>\n       <use style=\"stroke:#000000;\" x=\"386.366646\" xlink:href=\"#me2b914ad98\" y=\"156.471126\"/>\n      </g>\n     </g>\n     <g id=\"line2d_10\">\n      <g>\n       <use style=\"stroke:#000000;\" x=\"386.366646\" xlink:href=\"#m26cd242c7e\" y=\"7.2\"/>\n      </g>\n     </g>\n     <g id=\"text_5\">\n      <!-- 2.0 -->\n      <g transform=\"translate(373.644146 172.128626)scale(0.16 -0.16)\">\n       <defs>\n        <path d=\"M 19.1875 8.296875 \nL 53.609375 8.296875 \nL 53.609375 0 \nL 7.328125 0 \nL 7.328125 8.296875 \nQ 12.9375 14.109375 22.625 23.890625 \nQ 32.328125 33.6875 34.8125 36.53125 \nQ 39.546875 41.84375 41.421875 45.53125 \nQ 43.3125 49.21875 43.3125 52.78125 \nQ 43.3125 58.59375 39.234375 62.25 \nQ 35.15625 65.921875 28.609375 65.921875 \nQ 23.96875 65.921875 18.8125 64.3125 \nQ 13.671875 62.703125 7.8125 59.421875 \nL 7.8125 69.390625 \nQ 13.765625 71.78125 18.9375 73 \nQ 24.125 74.21875 28.421875 74.21875 \nQ 39.75 74.21875 46.484375 68.546875 \nQ 53.21875 62.890625 53.21875 53.421875 \nQ 53.21875 48.921875 51.53125 44.890625 \nQ 49.859375 40.875 45.40625 35.40625 \nQ 44.1875 33.984375 37.640625 27.21875 \nQ 31.109375 20.453125 19.1875 8.296875 \nz\n\" id=\"DejaVuSans-50\"/>\n       </defs>\n       <use xlink:href=\"#DejaVuSans-50\"/>\n       <use x=\"63.623047\" xlink:href=\"#DejaVuSans-46\"/>\n       <use x=\"95.410156\" xlink:href=\"#DejaVuSans-48\"/>\n      </g>\n     </g>\n    </g>\n   </g>\n   <g id=\"matplotlib.axis_2\">\n    <g id=\"ytick_1\">\n     <g id=\"line2d_11\">\n      <defs>\n       <path d=\"M 0 0 \nL 4 0 \n\" id=\"ma65f670caf\" style=\"stroke:#000000;stroke-width:1.5;\"/>\n      </defs>\n      <g>\n       <use style=\"stroke:#000000;stroke-width:1.5;\" x=\"59.7325\" xlink:href=\"#ma65f670caf\" y=\"122.664831\"/>\n      </g>\n     </g>\n     <g id=\"line2d_12\">\n      <defs>\n       <path d=\"M 0 0 \nL -4 0 \n\" id=\"mb1c768134e\" style=\"stroke:#000000;stroke-width:1.5;\"/>\n      </defs>\n      <g>\n       <use style=\"stroke:#000000;stroke-width:1.5;\" x=\"394.5325\" xlink:href=\"#mb1c768134e\" y=\"122.664831\"/>\n      </g>\n     </g>\n     <g id=\"text_6\">\n      <!-- −0.25 -->\n      <g transform=\"translate(7.2 128.743581)scale(0.16 -0.16)\">\n       <defs>\n        <path d=\"M 10.59375 35.5 \nL 73.1875 35.5 \nL 73.1875 27.203125 \nL 10.59375 27.203125 \nz\n\" id=\"DejaVuSans-8722\"/>\n       </defs>\n       <use xlink:href=\"#DejaVuSans-8722\"/>\n       <use x=\"83.789062\" xlink:href=\"#DejaVuSans-48\"/>\n       <use x=\"147.412109\" xlink:href=\"#DejaVuSans-46\"/>\n       <use x=\"179.199219\" xlink:href=\"#DejaVuSans-50\"/>\n       <use x=\"242.822266\" xlink:href=\"#DejaVuSans-53\"/>\n      </g>\n     </g>\n    </g>\n    <g id=\"ytick_2\">\n     <g id=\"line2d_13\">\n      <g>\n       <use style=\"stroke:#000000;stroke-width:1.5;\" x=\"59.7325\" xlink:href=\"#ma65f670caf\" y=\"81.835563\"/>\n      </g>\n     </g>\n     <g id=\"line2d_14\">\n      <g>\n       <use style=\"stroke:#000000;stroke-width:1.5;\" x=\"394.5325\" xlink:href=\"#mb1c768134e\" y=\"81.835563\"/>\n      </g>\n     </g>\n     <g id=\"text_7\">\n      <!-- 0.00 -->\n      <g transform=\"translate(20.6075 87.914313)scale(0.16 -0.16)\">\n       <use xlink:href=\"#DejaVuSans-48\"/>\n       <use x=\"63.623047\" xlink:href=\"#DejaVuSans-46\"/>\n       <use x=\"95.410156\" xlink:href=\"#DejaVuSans-48\"/>\n       <use x=\"159.033203\" xlink:href=\"#DejaVuSans-48\"/>\n      </g>\n     </g>\n    </g>\n    <g id=\"ytick_3\">\n     <g id=\"line2d_15\">\n      <g>\n       <use style=\"stroke:#000000;stroke-width:1.5;\" x=\"59.7325\" xlink:href=\"#ma65f670caf\" y=\"41.006295\"/>\n      </g>\n     </g>\n     <g id=\"line2d_16\">\n      <g>\n       <use style=\"stroke:#000000;stroke-width:1.5;\" x=\"394.5325\" xlink:href=\"#mb1c768134e\" y=\"41.006295\"/>\n      </g>\n     </g>\n     <g id=\"text_8\">\n      <!-- 0.25 -->\n      <g transform=\"translate(20.6075 47.085045)scale(0.16 -0.16)\">\n       <use xlink:href=\"#DejaVuSans-48\"/>\n       <use x=\"63.623047\" xlink:href=\"#DejaVuSans-46\"/>\n       <use x=\"95.410156\" xlink:href=\"#DejaVuSans-50\"/>\n       <use x=\"159.033203\" xlink:href=\"#DejaVuSans-53\"/>\n      </g>\n     </g>\n    </g>\n   </g>\n   <g id=\"line2d_17\">\n    <path clip-path=\"url(#p0662c673f5)\" d=\"M 223.049573 81.835563 \nL 386.366646 13.985051 \n\" style=\"fill:none;stroke:#ff0000;stroke-linecap:square;\"/>\n   </g>\n   <g id=\"line2d_18\">\n    <path clip-path=\"url(#p0662c673f5)\" d=\"M 223.049573 81.835563 \nL 236.493386 77.81231 \nL 250.944744 73.126691 \nL 266.470271 67.69936 \nL 283.140116 61.442802 \nL 301.028048 54.260565 \nL 320.211535 46.046445 \nL 340.771802 36.683582 \nL 362.793883 26.043501 \nL 386.366646 13.985051 \n\" style=\"fill:none;stroke:#ff7f0e;stroke-linecap:square;\"/>\n   </g>\n   <g id=\"line2d_19\">\n    <path clip-path=\"url(#p0662c673f5)\" d=\"M 59.7325 149.686075 \nL 386.366646 13.985051 \n\" style=\"fill:none;stroke:#2ca02c;stroke-linecap:square;\"/>\n    <defs>\n     <path d=\"M -3 3 \nL 3 3 \nL 3 -3 \nL -3 -3 \nz\n\" id=\"mcba5507906\" style=\"stroke:#000000;stroke-linejoin:miter;stroke-width:2;\"/>\n    </defs>\n    <g clip-path=\"url(#p0662c673f5)\">\n     <use style=\"fill:#2ca02c;stroke:#000000;stroke-linejoin:miter;stroke-width:2;\" x=\"59.7325\" xlink:href=\"#mcba5507906\" y=\"149.686075\"/>\n     <use style=\"fill:#2ca02c;stroke:#000000;stroke-linejoin:miter;stroke-width:2;\" x=\"386.366646\" xlink:href=\"#mcba5507906\" y=\"13.985051\"/>\n    </g>\n   </g>\n   <g id=\"patch_3\">\n    <path d=\"M 59.7325 156.471126 \nL 59.7325 7.2 \n\" style=\"fill:none;stroke:#000000;stroke-linecap:square;stroke-linejoin:miter;\"/>\n   </g>\n   <g id=\"patch_4\">\n    <path d=\"M 394.5325 156.471126 \nL 394.5325 7.2 \n\" style=\"fill:none;stroke:#000000;stroke-linecap:square;stroke-linejoin:miter;\"/>\n   </g>\n   <g id=\"patch_5\">\n    <path d=\"M 59.7325 156.471126 \nL 394.5325 156.471126 \n\" style=\"fill:none;stroke:#000000;stroke-linecap:square;stroke-linejoin:miter;\"/>\n   </g>\n   <g id=\"patch_6\">\n    <path d=\"M 59.7325 7.2 \nL 394.5325 7.2 \n\" style=\"fill:none;stroke:#000000;stroke-linecap:square;stroke-linejoin:miter;\"/>\n   </g>\n  </g>\n </g>\n <defs>\n  <clipPath id=\"p0662c673f5\">\n   <rect height=\"149.271126\" width=\"334.8\" x=\"59.7325\" y=\"7.2\"/>\n  </clipPath>\n </defs>\n</svg>\n",
      "image/png": "[encoded data removed]"
     },
     "metadata": {
      "needs_background": "light"
     }
    }
   ],
   "source": [
    "import LogSpiralCalc as lgs\n",
    "l = lgs.LogSpiral(1, 2, 16)\n",
    "l.return_equiv_line(plot=True)"
   ]
  },
  {
   "cell_type": "code",
   "execution_count": null,
   "metadata": {},
   "outputs": [],
   "source": []
  }
 ],
 "metadata": {
  "kernelspec": {
   "display_name": "Python 3",
   "language": "python",
   "name": "python3"
  },
  "language_info": {
   "codemirror_mode": {
    "name": "ipython",
    "version": 3
   },
   "file_extension": ".py",
   "mimetype": "text/x-python",
   "name": "python",
   "nbconvert_exporter": "python",
   "pygments_lexer": "ipython3",
   "version": "3.8.5-final"
  }
 },
 "nbformat": 4,
 "nbformat_minor": 4
}