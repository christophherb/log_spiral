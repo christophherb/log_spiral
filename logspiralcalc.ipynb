{
 "cells": [
  {
   "cell_type": "code",
   "execution_count": 2,
   "metadata": {},
   "outputs": [
    {
     "output_type": "stream",
     "name": "stdout",
     "text": [
      "-1.1111707845935506\n"
     ]
    },
    {
     "output_type": "execute_result",
     "data": {
      "text/plain": [
       "nan"
      ]
     },
     "metadata": {},
     "execution_count": 2
    }
   ],
   "source": [
    "from numpy import log,sin,cos,pi,exp,tan\n",
    "\n",
    "def calc_one(r,b,m,phi):\n",
    "    print(b/(r*(sin(phi)-m*cos(phi))))\n",
    "    return log(b/(r*(sin(phi)-m*cos(phi))))/b\n",
    "\n",
    "calc_one(1,0.1,0.1,0.01)"
   ]
  },
  {
   "cell_type": "code",
   "execution_count": 119,
   "metadata": {},
   "outputs": [],
   "source": [
    "import numpy as np\n",
    "import matplotlib.pyplot as plt\n",
    "class LogSpiral:\n",
    "    def __init__(self, psi, xh=1):\n",
    "        rad_psi = psi*np.pi/180\n",
    "        self.k = 1/np.tan(rad_psi)\n",
    "        def func(theta):\n",
    "            return xh*np.exp(self.k*theta)\n",
    "        self.rad_psi = rad_psi\n",
    "        self.func = func\n",
    "        self.xh = xh\n",
    "    \n",
    "    def plot_spiral(self, theta_range):\n",
    "        fig,ax = plt.subplots(1)\n",
    "        x_spiral = np.cos(theta_range)*self.func(theta_range)\n",
    "        y_spiral = self.func(theta_range)*np.sin(theta_range)\n",
    "        ax.plot(x_spiral, y_spiral, linestyle='-', marker=' ')\n",
    "        ylims = ax.get_ylim()\n",
    "        ax.set_ylim(0,ylims[1])\n",
    "        ax.set_aspect('equal')\n",
    "        for y_final in np.linspace(0, y_spiral[-1], 10):\n",
    "            print(y_final)\n",
    "            ax.plot([0, x_spiral[-1]*2], [0, y_final], linestyle = '-', marker=' ', color='black')\n",
    "\n",
    "\n",
    "class LogSpiralMirror:\n",
    "    def __init__(self, xstart, xend, psi):\n",
    "        self.xstart = xstart\n",
    "        self.theta_start = 0\n",
    "        self.xend = xend\n",
    "        self.psi = psi\n",
    "        self.psi_rad = np.pi/180*psi\n",
    "        self.k = 1/np.tan(self.psi_rad)\n",
    "        self.function = lambda theta: np.cos(theta)*self.xstart*np.exp(self.k*theta)-self.xend\n",
    "        self.derivative = lambda theta: self.xstart*np.exp(self.k*theta)*(np.cos(theta)*self.k-np.sin(theta))\n",
    "\n",
    "    def return_r(self, theta):\n",
    "        return self.xstart*np.exp(self.k*theta)\n",
    "\n",
    "    def return_cart_coords(self, theta):\n",
    "        r = self.return_r(theta)\n",
    "        x = np.cos(theta)*r\n",
    "        y = np.sin(theta)*r\n",
    "        return x,y\n",
    "\n",
    "    def return_prelim_theta(self):\n",
    "        prelim_theta = np.log(self.xend/self.xstart)*1/self.k\n",
    "        return prelim_theta\n",
    "\n",
    "    def return_precise_theta(self, max_iterations=10, precision=10**-5):\n",
    "        x_0 = self.return_prelim_theta()\n",
    "        for k in range(max_iterations):\n",
    "            x_n = x_0 - self.function(x_0)/self.derivative(x_0)\n",
    "\n",
    "            if abs(x_0-x_n) < precision:\n",
    "                return x_n\n",
    "            x_0 = x_n\n",
    "        return None\n",
    "\n",
    "    def update_theta_end(self, max_iterations=10, precision=10**-5):\n",
    "        self.theta_end = self.return_precise_theta(max_iterations=max_iterations, precision=precision)\n",
    "\n",
    "    def return_equiv_line(self):\n",
    "        xstart = self.xstart\n",
    "        ystart = 0\n",
    "        theta = self.return_precise_theta() \n",
    "        xend,yend = self.return_cart_coords(theta)\n",
    "\n"
   ]
  },
  {
   "cell_type": "code",
   "execution_count": 120,
   "metadata": {},
   "outputs": [
    {
     "output_type": "stream",
     "name": "stdout",
     "text": [
      "0.012100206914398618\n"
     ]
    },
    {
     "output_type": "execute_result",
     "data": {
      "text/plain": [
       "(2.0, 0.02420159499923009)"
      ]
     },
     "metadata": {},
     "execution_count": 120
    }
   ],
   "source": [
    "%matplotlib qt\n",
    "L = LogSpiralMirror(1,2,1)\n",
    "L.update_theta_end(precision=10**-6)\n",
    "print(L.theta_end)\n",
    "L.return_cart_coords(L.theta_end)"
   ]
  },
  {
   "cell_type": "code",
   "execution_count": 116,
   "metadata": {},
   "outputs": [
    {
     "output_type": "stream",
     "name": "stdout",
     "text": [
      "0.012098929041484803\n",
      "x0 0.012098929041484803 xn 0.012100206961151709\n",
      "x0 0.012100206961151709 xn 0.012100206914398618\n",
      "x0 0.012100206914398618 xn 0.012100206914398618\n",
      "iterations 2\n",
      "x0 0.012098929041484803 xn 0.012100206961151709\n",
      "x0 0.012100206961151709 xn 0.012100206914398618\n",
      "x0 0.012100206914398618 xn 0.012100206914398618\n",
      "iterations 2\n"
     ]
    },
    {
     "output_type": "execute_result",
     "data": {
      "text/plain": [
       "[<matplotlib.lines.Line2D at 0x7fba88b28310>]"
      ]
     },
     "metadata": {},
     "execution_count": 116
    }
   ],
   "source": [
    "# test case \n",
    "xs = 1\n",
    "xe = 2\n",
    "psi = 1#deg\n",
    "psi_rad = np.pi/180*psi\n",
    "k = 1/np.tan(psi_rad)\n",
    "prelim_theta_end = np.log(xe/xs)/k\n",
    "function = lambda theta: np.cos(theta)*xs*np.exp(k*theta)-xe\n",
    "derivative = lambda theta: xs*np.exp(k*theta)*(np.cos(theta)*k-np.sin(theta))\n",
    "\n",
    "\n",
    "print(prelim_theta_end)\n",
    "\n",
    "def newton(x0, func, deriv, prec=0.00000000001):\n",
    "    for k in range(100):\n",
    "        xn = x0 - func(x0)/deriv(x0)\n",
    "        print('x0', x0, 'xn', xn)\n",
    "        if abs(xn-x0) < prec:\n",
    "            print('iterations {}'.format(k))\n",
    "            return xn\n",
    "        x0 = xn\n",
    "    return None\n",
    "theta_range = np.linspace(0,prelim_theta_end*2,100)\n",
    "fig,ax = plt.subplots(1)\n",
    "ax.plot(theta_range,function(theta_range),linestyle='-', marker=' ')\n",
    "ax.plot([0,0.025],[newton(prelim_theta_end, function, derivative),newton(prelim_theta_end, function, derivative)])\n"
   ]
  },
  {
   "cell_type": "code",
   "execution_count": 2,
   "metadata": {},
   "outputs": [
    {
     "output_type": "error",
     "ename": "NameError",
     "evalue": "name 'tan' is not defined",
     "traceback": [
      "\u001b[0;31m---------------------------------------------------------------------------\u001b[0m",
      "\u001b[0;31mNameError\u001b[0m                                 Traceback (most recent call last)",
      "\u001b[0;32m<ipython-input-2-09e964b91406>\u001b[0m in \u001b[0;36m<module>\u001b[0;34m\u001b[0m\n\u001b[1;32m     21\u001b[0m \u001b[0mm\u001b[0m\u001b[0;34m=\u001b[0m \u001b[0;34m-\u001b[0m\u001b[0;36m0.1\u001b[0m\u001b[0;34m\u001b[0m\u001b[0;34m\u001b[0m\u001b[0m\n\u001b[1;32m     22\u001b[0m \u001b[0mangle\u001b[0m \u001b[0;34m=\u001b[0m \u001b[0;36m15\u001b[0m\u001b[0;31m#deg\u001b[0m\u001b[0;34m\u001b[0m\u001b[0;34m\u001b[0m\u001b[0m\n\u001b[0;32m---> 23\u001b[0;31m \u001b[0mb\u001b[0m \u001b[0;34m=\u001b[0m \u001b[0;36m1\u001b[0m\u001b[0;34m/\u001b[0m\u001b[0mtan\u001b[0m\u001b[0;34m(\u001b[0m\u001b[0mangle\u001b[0m\u001b[0;34m*\u001b[0m\u001b[0mpi\u001b[0m\u001b[0;34m/\u001b[0m\u001b[0;36m180\u001b[0m\u001b[0;34m)\u001b[0m\u001b[0;34m\u001b[0m\u001b[0;34m\u001b[0m\u001b[0m\n\u001b[0m\u001b[1;32m     24\u001b[0m \u001b[0mprint\u001b[0m\u001b[0;34m(\u001b[0m\u001b[0mb\u001b[0m\u001b[0;34m)\u001b[0m\u001b[0;34m\u001b[0m\u001b[0;34m\u001b[0m\u001b[0m\n\u001b[1;32m     25\u001b[0m \u001b[0mr\u001b[0m \u001b[0;34m=\u001b[0m \u001b[0;36m1\u001b[0m\u001b[0;34m\u001b[0m\u001b[0;34m\u001b[0m\u001b[0m\n",
      "\u001b[0;31mNameError\u001b[0m: name 'tan' is not defined"
     ]
    }
   ],
   "source": [
    "\n",
    "def newton_spiral(phi,r,b,m,t):\n",
    "    return r*exp(b*phi)*(sin(phi)-m*cos(phi))-t \n",
    "def newton_der_spiral(phi,r,b,m,t):\n",
    "    return r*b*exp(b*phi)*(sin(phi)-m*cos(phi)) + r*exp(b*phi)*(cos(phi)+m*sin(phi))\n",
    "def newtonit(x,params):\n",
    "    '''\n",
    "    everybodys beloved newton thingy\n",
    "    x_n+1 = x_n -f(x_n)/f'(x_n)\n",
    "    '''\n",
    "    x_old = float('Inf')\n",
    "    while True:\n",
    "        if abs(x-x_old) < 10**-3:\n",
    "            break\n",
    "        x_old = x\n",
    "        x = x_old-newton_spiral(x_old,*params)/newton_der_spiral(x_old,*params)\n",
    "        print(x_old)\n",
    "    return x\n",
    "\n",
    "\n",
    "rotations = 1\n",
    "m= -0.1\n",
    "angle = 15#deg\n",
    "b = 1/tan(angle*pi/180)\n",
    "print(b)\n",
    "r = 1\n",
    "t = 1\n",
    "phis = np.linspace(-rotations*2*pi,rotations*2*pi,101*rotations)\n",
    "params = [r,b,m,t]\n",
    "\n",
    "fig,ax = plt.subplots(1)\n",
    "ax.plot(phis,newton_spiral(phis,r,b,m,t),linestyle = '-',marker = ' ')\n",
    "ax.plot(phis,newton_der_spiral(phis,r,b,m,t),linestyle = '-',marker = ' ',color = 'black')\n",
    "ax.hlines(0,0,rotations*2*pi)\n",
    "ax.set_ylim(-10,10)\n",
    "ax.set_xlim(-20,20)\n",
    "\n",
    "\n",
    "phi_inter = newtonit(0,params)\n",
    "r_inter = log_spiral(phi_inter,r,b)\n",
    "print(phi_inter,r_inter)\n",
    "\n",
    "ax.set_title(round(phi_inter*180/pi,4))\n",
    "ax.vlines(newtonit(0,params),-2,2)\n",
    "ax.vlines(newtonit(4,params),-2,2)\n",
    "\n",
    "params = [r,b,m,t]\n",
    "#(newtonit(3,params))-(newtonit(1,params))\n",
    "fig,ax = plt.subplots(1)\n",
    "ax.plot(*log_spiral(phis,r,b),linestyle = '-',marker = ' ')\n",
    "ax.plot(np.linspace(0,40,101),mxt(np.linspace(0,40,101),m,t),linestyle = '-',marker = ' ')\n",
    "ax.plot([0,r_inter[0]],[0,r_inter[1]],linestyle = '-',marker = ' ')\n",
    "ax.set_ylim(-20,20)\n",
    "ax.set_xlim(-20,20)"
   ]
  },
  {
   "cell_type": "code",
   "execution_count": 21,
   "metadata": {},
   "outputs": [
    {
     "data": {
      "text/plain": [
       "(0.7071067811865475, 0.7071067811865476)"
      ]
     },
     "execution_count": 21,
     "metadata": {},
     "output_type": "execute_result"
    }
   ],
   "source": [
    "sin(phi),cos(phi)"
   ]
  },
  {
   "cell_type": "code",
   "execution_count": 3,
   "metadata": {},
   "outputs": [
    {
     "output_type": "stream",
     "name": "stdout",
     "text": [
      "0.11587444732306833\nTrue\n"
     ]
    }
   ],
   "source": [
    "import LogSpiralCalc as lgs\n",
    "%matplotlib qt\n",
    "l = lgs.LogSpiral(1, 2, 16)\n",
    "l.return_equiv_line(plot=False)\n",
    "m = 0.15\n",
    "y0 = -0.05\n",
    "line = lgs.Line2D(m, y0)\n",
    "inters = lgs.Intersection(l,line)\n",
    "#l.return_equiv_line(plot=True)\n",
    "theta_int = inters.return_precise_thetaint(max_iterations=100, precision=10**-9)\n",
    "print(theta_int)\n",
    "print(0 < theta_int < inters.logspir.theta_end)\n",
    "inters.return_scatter_coords()\n",
    "\n",
    "try:\n",
    "    fig,ax = inters.plot_intersection()\n",
    "    ax.set_aspect('equal')\n",
    "    ax.plot([0,1], [y0,y0+m])\n",
    "except:\n",
    "    pass"
   ]
  },
  {
   "cell_type": "code",
   "execution_count": 10,
   "metadata": {},
   "outputs": [
    {
     "output_type": "execute_result",
     "data": {
      "text/plain": [
       "[<matplotlib.lines.Line2D at 0x7f65ce9aabe0>]"
      ]
     },
     "metadata": {},
     "execution_count": 10
    }
   ],
   "source": [
    "import LogSpiralCalc as lgs\n",
    "%matplotlib qt\n",
    "theta = -45\n",
    "y0 = 10\n",
    "m = 0\n",
    "line = lgs.Line2D(m, y0)\n",
    "rot_line = line\n",
    "rot_line.rotate_line(theta)\n",
    "m_rot, y0_rot = rot_line.return_turned_line(theta)\n",
    "fig,ax = plt.subplots(1)\n",
    "calcy_line = lambda x: line.y0 + line.m * x\n",
    "calcy_rot  = lambda x: m_rot * x + y0_rot\n",
    "xs = np.linspace(-10,10,100)\n",
    "## point \n",
    "xr = -np.sin(theta*np.pi/180)*y0\n",
    "yr = np.cos(theta*np.pi/180)*y0\n",
    "\n",
    "ax.plot(xs, calcy_line(xs), marker = ' ', linestyle='-')\n",
    "ax.plot(xs, calcy_rot(xs), marker = ' ', linestyle='-')\n",
    "ax.set_aspect('equal')\n",
    "ax.plot(xr,yr)\n"
   ]
  },
  {
   "cell_type": "code",
   "execution_count": null,
   "metadata": {},
   "outputs": [],
   "source": []
  },
  {
   "cell_type": "code",
   "execution_count": 8,
   "metadata": {},
   "outputs": [
    {
     "output_type": "execute_result",
     "data": {
      "text/plain": [
       "225"
      ]
     },
     "metadata": {},
     "execution_count": 8
    }
   ],
   "source": [
    "a = 4\n",
    "function = lambda x: x**2*k\n",
    "function(5)"
   ]
  },
  {
   "cell_type": "code",
   "execution_count": 9,
   "metadata": {},
   "outputs": [
    {
     "output_type": "stream",
     "name": "stdout",
     "text": [
      "0\n100\n200\n300\n400\n500\n600\n700\n800\n900\n"
     ]
    }
   ],
   "source": [
    "for k in range(10):\n",
    "    print(function(10))"
   ]
  },
  {
   "cell_type": "code",
   "execution_count": 5,
   "metadata": {},
   "outputs": [
    {
     "output_type": "stream",
     "name": "stdout",
     "text": [
      "prelimx 1.1535658589777271\nfinex 1.179692518408577\n"
     ]
    },
    {
     "output_type": "display_data",
     "data": {
      "text/plain": "<Figure size 432x288 with 1 Axes>",
      "image/svg+xml": "<?xml version=\"1.0\" encoding=\"utf-8\" standalone=\"no\"?>\n<!DOCTYPE svg PUBLIC \"-//W3C//DTD SVG 1.1//EN\"\n  \"http://www.w3.org/Graphics/SVG/1.1/DTD/svg11.dtd\">\n<!-- Created with matplotlib (https://matplotlib.org/) -->\n<svg height=\"250.825pt\" version=\"1.1\" viewBox=\"0 0 378.145 250.825\" width=\"378.145pt\" xmlns=\"http://www.w3.org/2000/svg\" xmlns:xlink=\"http://www.w3.org/1999/xlink\">\n <metadata>\n  <rdf:RDF xmlns:cc=\"http://creativecommons.org/ns#\" xmlns:dc=\"http://purl.org/dc/elements/1.1/\" xmlns:rdf=\"http://www.w3.org/1999/02/22-rdf-syntax-ns#\">\n   <cc:Work>\n    <dc:type rdf:resource=\"http://purl.org/dc/dcmitype/StillImage\"/>\n    <dc:date>2020-10-26T15:28:45.644203</dc:date>\n    <dc:format>image/svg+xml</dc:format>\n    <dc:creator>\n     <cc:Agent>\n      <dc:title>Matplotlib v3.3.2, https://matplotlib.org/</dc:title>\n     </cc:Agent>\n    </dc:creator>\n   </cc:Work>\n  </rdf:RDF>\n </metadata>\n <defs>\n  <style type=\"text/css\">*{stroke-linecap:butt;stroke-linejoin:round;}</style>\n </defs>\n <g id=\"figure_1\">\n  <g id=\"patch_1\">\n   <path d=\"M 0 250.825 \nL 378.145 250.825 \nL 378.145 0 \nL 0 0 \nz\n\" style=\"fill:none;\"/>\n  </g>\n  <g id=\"axes_1\">\n   <g id=\"patch_2\">\n    <path d=\"M 36.145 224.64 \nL 370.945 224.64 \nL 370.945 7.2 \nL 36.145 7.2 \nz\n\" style=\"fill:#ffffff;\"/>\n   </g>\n   <g id=\"matplotlib.axis_1\">\n    <g id=\"xtick_1\">\n     <g id=\"line2d_1\">\n      <defs>\n       <path d=\"M 0 0 \nL 0 -4 \n\" id=\"m56d15fca26\" style=\"stroke:#000000;\"/>\n      </defs>\n      <g>\n       <use style=\"stroke:#000000;\" x=\"51.363182\" xlink:href=\"#m56d15fca26\" y=\"224.64\"/>\n      </g>\n     </g>\n     <g id=\"line2d_2\">\n      <defs>\n       <path d=\"M 0 0 \nL 0 4 \n\" id=\"m94ac0f85c7\" style=\"stroke:#000000;\"/>\n      </defs>\n      <g>\n       <use style=\"stroke:#000000;\" x=\"51.363182\" xlink:href=\"#m94ac0f85c7\" y=\"7.2\"/>\n      </g>\n     </g>\n     <g id=\"text_1\">\n      <!-- 0.0 -->\n      <g transform=\"translate(38.640682 240.2975)scale(0.16 -0.16)\">\n       <defs>\n        <path d=\"M 31.78125 66.40625 \nQ 24.171875 66.40625 20.328125 58.90625 \nQ 16.5 51.421875 16.5 36.375 \nQ 16.5 21.390625 20.328125 13.890625 \nQ 24.171875 6.390625 31.78125 6.390625 \nQ 39.453125 6.390625 43.28125 13.890625 \nQ 47.125 21.390625 47.125 36.375 \nQ 47.125 51.421875 43.28125 58.90625 \nQ 39.453125 66.40625 31.78125 66.40625 \nz\nM 31.78125 74.21875 \nQ 44.046875 74.21875 50.515625 64.515625 \nQ 56.984375 54.828125 56.984375 36.375 \nQ 56.984375 17.96875 50.515625 8.265625 \nQ 44.046875 -1.421875 31.78125 -1.421875 \nQ 19.53125 -1.421875 13.0625 8.265625 \nQ 6.59375 17.96875 6.59375 36.375 \nQ 6.59375 54.828125 13.0625 64.515625 \nQ 19.53125 74.21875 31.78125 74.21875 \nz\n\" id=\"DejaVuSans-48\"/>\n        <path d=\"M 10.6875 12.40625 \nL 21 12.40625 \nL 21 0 \nL 10.6875 0 \nz\n\" id=\"DejaVuSans-46\"/>\n       </defs>\n       <use xlink:href=\"#DejaVuSans-48\"/>\n       <use x=\"63.623047\" xlink:href=\"#DejaVuSans-46\"/>\n       <use x=\"95.410156\" xlink:href=\"#DejaVuSans-48\"/>\n      </g>\n     </g>\n    </g>\n    <g id=\"xtick_2\">\n     <g id=\"line2d_3\">\n      <g>\n       <use style=\"stroke:#000000;\" x=\"151.623828\" xlink:href=\"#m56d15fca26\" y=\"224.64\"/>\n      </g>\n     </g>\n     <g id=\"line2d_4\">\n      <g>\n       <use style=\"stroke:#000000;\" x=\"151.623828\" xlink:href=\"#m94ac0f85c7\" y=\"7.2\"/>\n      </g>\n     </g>\n     <g id=\"text_2\">\n      <!-- 0.1 -->\n      <g transform=\"translate(138.901328 240.2975)scale(0.16 -0.16)\">\n       <defs>\n        <path d=\"M 12.40625 8.296875 \nL 28.515625 8.296875 \nL 28.515625 63.921875 \nL 10.984375 60.40625 \nL 10.984375 69.390625 \nL 28.421875 72.90625 \nL 38.28125 72.90625 \nL 38.28125 8.296875 \nL 54.390625 8.296875 \nL 54.390625 0 \nL 12.40625 0 \nz\n\" id=\"DejaVuSans-49\"/>\n       </defs>\n       <use xlink:href=\"#DejaVuSans-48\"/>\n       <use x=\"63.623047\" xlink:href=\"#DejaVuSans-46\"/>\n       <use x=\"95.410156\" xlink:href=\"#DejaVuSans-49\"/>\n      </g>\n     </g>\n    </g>\n    <g id=\"xtick_3\">\n     <g id=\"line2d_5\">\n      <g>\n       <use style=\"stroke:#000000;\" x=\"251.884474\" xlink:href=\"#m56d15fca26\" y=\"224.64\"/>\n      </g>\n     </g>\n     <g id=\"line2d_6\">\n      <g>\n       <use style=\"stroke:#000000;\" x=\"251.884474\" xlink:href=\"#m94ac0f85c7\" y=\"7.2\"/>\n      </g>\n     </g>\n     <g id=\"text_3\">\n      <!-- 0.2 -->\n      <g transform=\"translate(239.161974 240.2975)scale(0.16 -0.16)\">\n       <defs>\n        <path d=\"M 19.1875 8.296875 \nL 53.609375 8.296875 \nL 53.609375 0 \nL 7.328125 0 \nL 7.328125 8.296875 \nQ 12.9375 14.109375 22.625 23.890625 \nQ 32.328125 33.6875 34.8125 36.53125 \nQ 39.546875 41.84375 41.421875 45.53125 \nQ 43.3125 49.21875 43.3125 52.78125 \nQ 43.3125 58.59375 39.234375 62.25 \nQ 35.15625 65.921875 28.609375 65.921875 \nQ 23.96875 65.921875 18.8125 64.3125 \nQ 13.671875 62.703125 7.8125 59.421875 \nL 7.8125 69.390625 \nQ 13.765625 71.78125 18.9375 73 \nQ 24.125 74.21875 28.421875 74.21875 \nQ 39.75 74.21875 46.484375 68.546875 \nQ 53.21875 62.890625 53.21875 53.421875 \nQ 53.21875 48.921875 51.53125 44.890625 \nQ 49.859375 40.875 45.40625 35.40625 \nQ 44.1875 33.984375 37.640625 27.21875 \nQ 31.109375 20.453125 19.1875 8.296875 \nz\n\" id=\"DejaVuSans-50\"/>\n       </defs>\n       <use xlink:href=\"#DejaVuSans-48\"/>\n       <use x=\"63.623047\" xlink:href=\"#DejaVuSans-46\"/>\n       <use x=\"95.410156\" xlink:href=\"#DejaVuSans-50\"/>\n      </g>\n     </g>\n    </g>\n    <g id=\"xtick_4\">\n     <g id=\"line2d_7\">\n      <g>\n       <use style=\"stroke:#000000;\" x=\"352.14512\" xlink:href=\"#m56d15fca26\" y=\"224.64\"/>\n      </g>\n     </g>\n     <g id=\"line2d_8\">\n      <g>\n       <use style=\"stroke:#000000;\" x=\"352.14512\" xlink:href=\"#m94ac0f85c7\" y=\"7.2\"/>\n      </g>\n     </g>\n     <g id=\"text_4\">\n      <!-- 0.3 -->\n      <g transform=\"translate(339.42262 240.2975)scale(0.16 -0.16)\">\n       <defs>\n        <path d=\"M 40.578125 39.3125 \nQ 47.65625 37.796875 51.625 33 \nQ 55.609375 28.21875 55.609375 21.1875 \nQ 55.609375 10.40625 48.1875 4.484375 \nQ 40.765625 -1.421875 27.09375 -1.421875 \nQ 22.515625 -1.421875 17.65625 -0.515625 \nQ 12.796875 0.390625 7.625 2.203125 \nL 7.625 11.71875 \nQ 11.71875 9.328125 16.59375 8.109375 \nQ 21.484375 6.890625 26.8125 6.890625 \nQ 36.078125 6.890625 40.9375 10.546875 \nQ 45.796875 14.203125 45.796875 21.1875 \nQ 45.796875 27.640625 41.28125 31.265625 \nQ 36.765625 34.90625 28.71875 34.90625 \nL 20.21875 34.90625 \nL 20.21875 43.015625 \nL 29.109375 43.015625 \nQ 36.375 43.015625 40.234375 45.921875 \nQ 44.09375 48.828125 44.09375 54.296875 \nQ 44.09375 59.90625 40.109375 62.90625 \nQ 36.140625 65.921875 28.71875 65.921875 \nQ 24.65625 65.921875 20.015625 65.03125 \nQ 15.375 64.15625 9.8125 62.3125 \nL 9.8125 71.09375 \nQ 15.4375 72.65625 20.34375 73.4375 \nQ 25.25 74.21875 29.59375 74.21875 \nQ 40.828125 74.21875 47.359375 69.109375 \nQ 53.90625 64.015625 53.90625 55.328125 \nQ 53.90625 49.265625 50.4375 45.09375 \nQ 46.96875 40.921875 40.578125 39.3125 \nz\n\" id=\"DejaVuSans-51\"/>\n       </defs>\n       <use xlink:href=\"#DejaVuSans-48\"/>\n       <use x=\"63.623047\" xlink:href=\"#DejaVuSans-46\"/>\n       <use x=\"95.410156\" xlink:href=\"#DejaVuSans-51\"/>\n      </g>\n     </g>\n    </g>\n   </g>\n   <g id=\"matplotlib.axis_2\">\n    <g id=\"ytick_1\">\n     <g id=\"line2d_9\">\n      <defs>\n       <path d=\"M 0 0 \nL 4 0 \n\" id=\"m154496febe\" style=\"stroke:#000000;stroke-width:1.5;\"/>\n      </defs>\n      <g>\n       <use style=\"stroke:#000000;stroke-width:1.5;\" x=\"36.145\" xlink:href=\"#m154496febe\" y=\"191.873673\"/>\n      </g>\n     </g>\n     <g id=\"line2d_10\">\n      <defs>\n       <path d=\"M 0 0 \nL -4 0 \n\" id=\"md302cf94a9\" style=\"stroke:#000000;stroke-width:1.5;\"/>\n      </defs>\n      <g>\n       <use style=\"stroke:#000000;stroke-width:1.5;\" x=\"370.945\" xlink:href=\"#md302cf94a9\" y=\"191.873673\"/>\n      </g>\n     </g>\n     <g id=\"text_5\">\n      <!-- 0.0 -->\n      <g transform=\"translate(7.2 197.952423)scale(0.16 -0.16)\">\n       <use xlink:href=\"#DejaVuSans-48\"/>\n       <use x=\"63.623047\" xlink:href=\"#DejaVuSans-46\"/>\n       <use x=\"95.410156\" xlink:href=\"#DejaVuSans-48\"/>\n      </g>\n     </g>\n    </g>\n    <g id=\"ytick_2\">\n     <g id=\"line2d_11\">\n      <g>\n       <use style=\"stroke:#000000;stroke-width:1.5;\" x=\"36.145\" xlink:href=\"#m154496febe\" y=\"129.798932\"/>\n      </g>\n     </g>\n     <g id=\"line2d_12\">\n      <g>\n       <use style=\"stroke:#000000;stroke-width:1.5;\" x=\"370.945\" xlink:href=\"#md302cf94a9\" y=\"129.798932\"/>\n      </g>\n     </g>\n     <g id=\"text_6\">\n      <!-- 0.2 -->\n      <g transform=\"translate(7.2 135.877682)scale(0.16 -0.16)\">\n       <use xlink:href=\"#DejaVuSans-48\"/>\n       <use x=\"63.623047\" xlink:href=\"#DejaVuSans-46\"/>\n       <use x=\"95.410156\" xlink:href=\"#DejaVuSans-50\"/>\n      </g>\n     </g>\n    </g>\n    <g id=\"ytick_3\">\n     <g id=\"line2d_13\">\n      <g>\n       <use style=\"stroke:#000000;stroke-width:1.5;\" x=\"36.145\" xlink:href=\"#m154496febe\" y=\"67.724191\"/>\n      </g>\n     </g>\n     <g id=\"line2d_14\">\n      <g>\n       <use style=\"stroke:#000000;stroke-width:1.5;\" x=\"370.945\" xlink:href=\"#md302cf94a9\" y=\"67.724191\"/>\n      </g>\n     </g>\n     <g id=\"text_7\">\n      <!-- 0.4 -->\n      <g transform=\"translate(7.2 73.802941)scale(0.16 -0.16)\">\n       <defs>\n        <path d=\"M 37.796875 64.3125 \nL 12.890625 25.390625 \nL 37.796875 25.390625 \nz\nM 35.203125 72.90625 \nL 47.609375 72.90625 \nL 47.609375 25.390625 \nL 58.015625 25.390625 \nL 58.015625 17.1875 \nL 47.609375 17.1875 \nL 47.609375 0 \nL 37.796875 0 \nL 37.796875 17.1875 \nL 4.890625 17.1875 \nL 4.890625 26.703125 \nz\n\" id=\"DejaVuSans-52\"/>\n       </defs>\n       <use xlink:href=\"#DejaVuSans-48\"/>\n       <use x=\"63.623047\" xlink:href=\"#DejaVuSans-46\"/>\n       <use x=\"95.410156\" xlink:href=\"#DejaVuSans-52\"/>\n      </g>\n     </g>\n    </g>\n   </g>\n   <g id=\"line2d_15\">\n    <path clip-path=\"url(#p389c3a5102)\" d=\"M 51.363182 211.247666 \nL 63.288268 207.972659 \nL 74.960731 204.53717 \nL 86.395787 200.940461 \nL 97.608655 197.181177 \nL 108.611511 193.258394 \nL 119.419571 189.169504 \nL 130.041969 184.913575 \nL 140.487833 180.48933 \nL 150.76934 175.893702 \nL 160.898663 171.122895 \nL 170.88189 166.175408 \nL 180.728152 161.047878 \nL 190.443536 155.738058 \nL 200.037174 150.241605 \nL 209.518196 144.553501 \nL 218.889646 138.671911 \nL 228.160655 132.590836 \nL 237.334267 126.30773 \nL 246.419612 119.815469 \nL 255.419735 113.110665 \nL 264.340723 106.18733 \nL 273.185618 99.041385 \nL 281.96051 91.665908 \nL 290.66844 84.056025 \nL 299.315498 76.203759 \nL 307.904725 68.103318 \nL 316.442211 59.74554 \nL 324.927954 51.126738 \nL 333.368042 42.236766 \nL 341.762475 33.071358 \nL 350.11734 23.619276 \nL 355.726818 17.083636 \nL 355.726818 17.083636 \n\" style=\"fill:none;stroke:#ff0000;stroke-linecap:square;\"/>\n   </g>\n   <g id=\"line2d_16\">\n    <path clip-path=\"url(#p389c3a5102)\" d=\"M 104.174362 194.868878 \n\" style=\"fill:none;stroke:#ff7f0e;stroke-linecap:square;\"/>\n    <defs>\n     <path d=\"M -3 3 \nL 3 3 \nL 3 -3 \nL -3 -3 \nz\n\" id=\"ma91f252706\" style=\"stroke:#000000;stroke-linejoin:miter;stroke-width:2;\"/>\n    </defs>\n    <g clip-path=\"url(#p389c3a5102)\">\n     <use style=\"fill:#ff7f0e;stroke:#000000;stroke-linejoin:miter;stroke-width:2;\" x=\"104.174362\" xlink:href=\"#ma91f252706\" y=\"194.868878\"/>\n    </g>\n   </g>\n   <g id=\"line2d_17\">\n    <path clip-path=\"url(#p389c3a5102)\" d=\"M 51.363182 191.873673 \nL 355.726818 191.873673 \n\" style=\"fill:none;stroke:#2ca02c;stroke-linecap:square;\"/>\n   </g>\n   <g id=\"line2d_18\">\n    <path clip-path=\"url(#p389c3a5102)\" d=\"M 51.363182 213.805461 \nL 355.726818 104.66934 \nL 355.726818 104.66934 \n\" style=\"fill:none;stroke:#d62728;stroke-linecap:square;\"/>\n   </g>\n   <g id=\"line2d_19\">\n    <path clip-path=\"url(#p389c3a5102)\" d=\"M 112.527523 191.80439 \n\" style=\"fill:none;stroke:#9467bd;stroke-linecap:square;\"/>\n    <defs>\n     <path d=\"M -3 3 \nL 3 3 \nL 3 -3 \nL -3 -3 \nz\n\" id=\"m51cb725efd\" style=\"stroke:#000000;stroke-linejoin:miter;stroke-width:2;\"/>\n    </defs>\n    <g clip-path=\"url(#p389c3a5102)\">\n     <use style=\"fill:#9467bd;stroke:#000000;stroke-linejoin:miter;stroke-width:2;\" x=\"112.527523\" xlink:href=\"#m51cb725efd\" y=\"191.80439\"/>\n    </g>\n   </g>\n   <g id=\"line2d_20\">\n    <path clip-path=\"url(#p389c3a5102)\" d=\"M 51.363182 214.756364 \nL 355.726818 100.543636 \nL 355.726818 100.543636 \n\" style=\"fill:none;stroke:#8c564b;stroke-linecap:square;\"/>\n   </g>\n   <g id=\"line2d_21\">\n    <path clip-path=\"url(#p389c3a5102)\" d=\"M 112.342892 191.873638 \n\" style=\"fill:none;stroke:#e377c2;stroke-linecap:square;\"/>\n    <defs>\n     <path d=\"M -3 3 \nL 3 3 \nL 3 -3 \nL -3 -3 \nz\n\" id=\"m98c84cbaec\" style=\"stroke:#000000;stroke-linejoin:miter;stroke-width:2;\"/>\n    </defs>\n    <g clip-path=\"url(#p389c3a5102)\">\n     <use style=\"fill:#e377c2;stroke:#000000;stroke-linejoin:miter;stroke-width:2;\" x=\"112.342892\" xlink:href=\"#m98c84cbaec\" y=\"191.873638\"/>\n    </g>\n   </g>\n   <g id=\"line2d_22\">\n    <path clip-path=\"url(#p389c3a5102)\" d=\"M 51.363182 214.733486 \nL 355.726818 100.634771 \nL 355.726818 100.634771 \n\" style=\"fill:none;stroke:#7f7f7f;stroke-linecap:square;\"/>\n   </g>\n   <g id=\"line2d_23\">\n    <path clip-path=\"url(#p389c3a5102)\" d=\"M 112.342799 191.873673 \n\" style=\"fill:none;stroke:#bcbd22;stroke-linecap:square;\"/>\n    <defs>\n     <path d=\"M -3 3 \nL 3 3 \nL 3 -3 \nL -3 -3 \nz\n\" id=\"mc54f685ff2\" style=\"stroke:#000000;stroke-linejoin:miter;stroke-width:2;\"/>\n    </defs>\n    <g clip-path=\"url(#p389c3a5102)\">\n     <use style=\"fill:#bcbd22;stroke:#000000;stroke-linejoin:miter;stroke-width:2;\" x=\"112.342799\" xlink:href=\"#mc54f685ff2\" y=\"191.873673\"/>\n    </g>\n   </g>\n   <g id=\"patch_3\">\n    <path d=\"M 36.145 224.64 \nL 36.145 7.2 \n\" style=\"fill:none;stroke:#000000;stroke-linecap:square;stroke-linejoin:miter;\"/>\n   </g>\n   <g id=\"patch_4\">\n    <path d=\"M 370.945 224.64 \nL 370.945 7.2 \n\" style=\"fill:none;stroke:#000000;stroke-linecap:square;stroke-linejoin:miter;\"/>\n   </g>\n   <g id=\"patch_5\">\n    <path d=\"M 36.145 224.64 \nL 370.945 224.64 \n\" style=\"fill:none;stroke:#000000;stroke-linecap:square;stroke-linejoin:miter;\"/>\n   </g>\n   <g id=\"patch_6\">\n    <path d=\"M 36.145 7.2 \nL 370.945 7.2 \n\" style=\"fill:none;stroke:#000000;stroke-linecap:square;stroke-linejoin:miter;\"/>\n   </g>\n  </g>\n </g>\n <defs>\n  <clipPath id=\"p389c3a5102\">\n   <rect height=\"217.44\" width=\"334.8\" x=\"36.145\" y=\"7.2\"/>\n  </clipPath>\n </defs>\n</svg>\n",
      "image/png": "[encoded data removed]"
     },
     "metadata": {
      "needs_background": "light"
     }
    },
    {
     "output_type": "display_data",
     "data": {
      "text/plain": "<Figure size 432x288 with 1 Axes>",
      "image/svg+xml": "<?xml version=\"1.0\" encoding=\"utf-8\" standalone=\"no\"?>\n<!DOCTYPE svg PUBLIC \"-//W3C//DTD SVG 1.1//EN\"\n  \"http://www.w3.org/Graphics/SVG/1.1/DTD/svg11.dtd\">\n<!-- Created with matplotlib (https://matplotlib.org/) -->\n<svg height=\"250.825pt\" version=\"1.1\" viewBox=\"0 0 378.145 250.825\" width=\"378.145pt\" xmlns=\"http://www.w3.org/2000/svg\" xmlns:xlink=\"http://www.w3.org/1999/xlink\">\n <metadata>\n  <rdf:RDF xmlns:cc=\"http://creativecommons.org/ns#\" xmlns:dc=\"http://purl.org/dc/elements/1.1/\" xmlns:rdf=\"http://www.w3.org/1999/02/22-rdf-syntax-ns#\">\n   <cc:Work>\n    <dc:type rdf:resource=\"http://purl.org/dc/dcmitype/StillImage\"/>\n    <dc:date>2020-10-26T15:28:45.843717</dc:date>\n    <dc:format>image/svg+xml</dc:format>\n    <dc:creator>\n     <cc:Agent>\n      <dc:title>Matplotlib v3.3.2, https://matplotlib.org/</dc:title>\n     </cc:Agent>\n    </dc:creator>\n   </cc:Work>\n  </rdf:RDF>\n </metadata>\n <defs>\n  <style type=\"text/css\">*{stroke-linecap:butt;stroke-linejoin:round;}</style>\n </defs>\n <g id=\"figure_1\">\n  <g id=\"patch_1\">\n   <path d=\"M 0 250.825 \nL 378.145 250.825 \nL 378.145 0 \nL 0 0 \nz\n\" style=\"fill:none;\"/>\n  </g>\n  <g id=\"axes_1\">\n   <g id=\"patch_2\">\n    <path d=\"M 36.145 224.64 \nL 370.945 224.64 \nL 370.945 7.2 \nL 36.145 7.2 \nz\n\" style=\"fill:#ffffff;\"/>\n   </g>\n   <g id=\"matplotlib.axis_1\">\n    <g id=\"xtick_1\">\n     <g id=\"line2d_1\">\n      <defs>\n       <path d=\"M 0 0 \nL 0 -4 \n\" id=\"m9c007c8e9e\" style=\"stroke:#000000;\"/>\n      </defs>\n      <g>\n       <use style=\"stroke:#000000;\" x=\"51.363182\" xlink:href=\"#m9c007c8e9e\" y=\"224.64\"/>\n      </g>\n     </g>\n     <g id=\"line2d_2\">\n      <defs>\n       <path d=\"M 0 0 \nL 0 4 \n\" id=\"maed5ec8cc9\" style=\"stroke:#000000;\"/>\n      </defs>\n      <g>\n       <use style=\"stroke:#000000;\" x=\"51.363182\" xlink:href=\"#maed5ec8cc9\" y=\"7.2\"/>\n      </g>\n     </g>\n     <g id=\"text_1\">\n      <!-- 0.0 -->\n      <g transform=\"translate(38.640682 240.2975)scale(0.16 -0.16)\">\n       <defs>\n        <path d=\"M 31.78125 66.40625 \nQ 24.171875 66.40625 20.328125 58.90625 \nQ 16.5 51.421875 16.5 36.375 \nQ 16.5 21.390625 20.328125 13.890625 \nQ 24.171875 6.390625 31.78125 6.390625 \nQ 39.453125 6.390625 43.28125 13.890625 \nQ 47.125 21.390625 47.125 36.375 \nQ 47.125 51.421875 43.28125 58.90625 \nQ 39.453125 66.40625 31.78125 66.40625 \nz\nM 31.78125 74.21875 \nQ 44.046875 74.21875 50.515625 64.515625 \nQ 56.984375 54.828125 56.984375 36.375 \nQ 56.984375 17.96875 50.515625 8.265625 \nQ 44.046875 -1.421875 31.78125 -1.421875 \nQ 19.53125 -1.421875 13.0625 8.265625 \nQ 6.59375 17.96875 6.59375 36.375 \nQ 6.59375 54.828125 13.0625 64.515625 \nQ 19.53125 74.21875 31.78125 74.21875 \nz\n\" id=\"DejaVuSans-48\"/>\n        <path d=\"M 10.6875 12.40625 \nL 21 12.40625 \nL 21 0 \nL 10.6875 0 \nz\n\" id=\"DejaVuSans-46\"/>\n       </defs>\n       <use xlink:href=\"#DejaVuSans-48\"/>\n       <use x=\"63.623047\" xlink:href=\"#DejaVuSans-46\"/>\n       <use x=\"95.410156\" xlink:href=\"#DejaVuSans-48\"/>\n      </g>\n     </g>\n    </g>\n    <g id=\"xtick_2\">\n     <g id=\"line2d_3\">\n      <g>\n       <use style=\"stroke:#000000;\" x=\"151.623828\" xlink:href=\"#m9c007c8e9e\" y=\"224.64\"/>\n      </g>\n     </g>\n     <g id=\"line2d_4\">\n      <g>\n       <use style=\"stroke:#000000;\" x=\"151.623828\" xlink:href=\"#maed5ec8cc9\" y=\"7.2\"/>\n      </g>\n     </g>\n     <g id=\"text_2\">\n      <!-- 0.1 -->\n      <g transform=\"translate(138.901328 240.2975)scale(0.16 -0.16)\">\n       <defs>\n        <path d=\"M 12.40625 8.296875 \nL 28.515625 8.296875 \nL 28.515625 63.921875 \nL 10.984375 60.40625 \nL 10.984375 69.390625 \nL 28.421875 72.90625 \nL 38.28125 72.90625 \nL 38.28125 8.296875 \nL 54.390625 8.296875 \nL 54.390625 0 \nL 12.40625 0 \nz\n\" id=\"DejaVuSans-49\"/>\n       </defs>\n       <use xlink:href=\"#DejaVuSans-48\"/>\n       <use x=\"63.623047\" xlink:href=\"#DejaVuSans-46\"/>\n       <use x=\"95.410156\" xlink:href=\"#DejaVuSans-49\"/>\n      </g>\n     </g>\n    </g>\n    <g id=\"xtick_3\">\n     <g id=\"line2d_5\">\n      <g>\n       <use style=\"stroke:#000000;\" x=\"251.884474\" xlink:href=\"#m9c007c8e9e\" y=\"224.64\"/>\n      </g>\n     </g>\n     <g id=\"line2d_6\">\n      <g>\n       <use style=\"stroke:#000000;\" x=\"251.884474\" xlink:href=\"#maed5ec8cc9\" y=\"7.2\"/>\n      </g>\n     </g>\n     <g id=\"text_3\">\n      <!-- 0.2 -->\n      <g transform=\"translate(239.161974 240.2975)scale(0.16 -0.16)\">\n       <defs>\n        <path d=\"M 19.1875 8.296875 \nL 53.609375 8.296875 \nL 53.609375 0 \nL 7.328125 0 \nL 7.328125 8.296875 \nQ 12.9375 14.109375 22.625 23.890625 \nQ 32.328125 33.6875 34.8125 36.53125 \nQ 39.546875 41.84375 41.421875 45.53125 \nQ 43.3125 49.21875 43.3125 52.78125 \nQ 43.3125 58.59375 39.234375 62.25 \nQ 35.15625 65.921875 28.609375 65.921875 \nQ 23.96875 65.921875 18.8125 64.3125 \nQ 13.671875 62.703125 7.8125 59.421875 \nL 7.8125 69.390625 \nQ 13.765625 71.78125 18.9375 73 \nQ 24.125 74.21875 28.421875 74.21875 \nQ 39.75 74.21875 46.484375 68.546875 \nQ 53.21875 62.890625 53.21875 53.421875 \nQ 53.21875 48.921875 51.53125 44.890625 \nQ 49.859375 40.875 45.40625 35.40625 \nQ 44.1875 33.984375 37.640625 27.21875 \nQ 31.109375 20.453125 19.1875 8.296875 \nz\n\" id=\"DejaVuSans-50\"/>\n       </defs>\n       <use xlink:href=\"#DejaVuSans-48\"/>\n       <use x=\"63.623047\" xlink:href=\"#DejaVuSans-46\"/>\n       <use x=\"95.410156\" xlink:href=\"#DejaVuSans-50\"/>\n      </g>\n     </g>\n    </g>\n    <g id=\"xtick_4\">\n     <g id=\"line2d_7\">\n      <g>\n       <use style=\"stroke:#000000;\" x=\"352.14512\" xlink:href=\"#m9c007c8e9e\" y=\"224.64\"/>\n      </g>\n     </g>\n     <g id=\"line2d_8\">\n      <g>\n       <use style=\"stroke:#000000;\" x=\"352.14512\" xlink:href=\"#maed5ec8cc9\" y=\"7.2\"/>\n      </g>\n     </g>\n     <g id=\"text_4\">\n      <!-- 0.3 -->\n      <g transform=\"translate(339.42262 240.2975)scale(0.16 -0.16)\">\n       <defs>\n        <path d=\"M 40.578125 39.3125 \nQ 47.65625 37.796875 51.625 33 \nQ 55.609375 28.21875 55.609375 21.1875 \nQ 55.609375 10.40625 48.1875 4.484375 \nQ 40.765625 -1.421875 27.09375 -1.421875 \nQ 22.515625 -1.421875 17.65625 -0.515625 \nQ 12.796875 0.390625 7.625 2.203125 \nL 7.625 11.71875 \nQ 11.71875 9.328125 16.59375 8.109375 \nQ 21.484375 6.890625 26.8125 6.890625 \nQ 36.078125 6.890625 40.9375 10.546875 \nQ 45.796875 14.203125 45.796875 21.1875 \nQ 45.796875 27.640625 41.28125 31.265625 \nQ 36.765625 34.90625 28.71875 34.90625 \nL 20.21875 34.90625 \nL 20.21875 43.015625 \nL 29.109375 43.015625 \nQ 36.375 43.015625 40.234375 45.921875 \nQ 44.09375 48.828125 44.09375 54.296875 \nQ 44.09375 59.90625 40.109375 62.90625 \nQ 36.140625 65.921875 28.71875 65.921875 \nQ 24.65625 65.921875 20.015625 65.03125 \nQ 15.375 64.15625 9.8125 62.3125 \nL 9.8125 71.09375 \nQ 15.4375 72.65625 20.34375 73.4375 \nQ 25.25 74.21875 29.59375 74.21875 \nQ 40.828125 74.21875 47.359375 69.109375 \nQ 53.90625 64.015625 53.90625 55.328125 \nQ 53.90625 49.265625 50.4375 45.09375 \nQ 46.96875 40.921875 40.578125 39.3125 \nz\n\" id=\"DejaVuSans-51\"/>\n       </defs>\n       <use xlink:href=\"#DejaVuSans-48\"/>\n       <use x=\"63.623047\" xlink:href=\"#DejaVuSans-46\"/>\n       <use x=\"95.410156\" xlink:href=\"#DejaVuSans-51\"/>\n      </g>\n     </g>\n    </g>\n   </g>\n   <g id=\"matplotlib.axis_2\">\n    <g id=\"ytick_1\">\n     <g id=\"line2d_9\">\n      <defs>\n       <path d=\"M 0 0 \nL 4 0 \n\" id=\"mb05cc17ac4\" style=\"stroke:#000000;stroke-width:1.5;\"/>\n      </defs>\n      <g>\n       <use style=\"stroke:#000000;stroke-width:1.5;\" x=\"36.145\" xlink:href=\"#mb05cc17ac4\" y=\"191.873673\"/>\n      </g>\n     </g>\n     <g id=\"line2d_10\">\n      <defs>\n       <path d=\"M 0 0 \nL -4 0 \n\" id=\"mce3f7f38e8\" style=\"stroke:#000000;stroke-width:1.5;\"/>\n      </defs>\n      <g>\n       <use style=\"stroke:#000000;stroke-width:1.5;\" x=\"370.945\" xlink:href=\"#mce3f7f38e8\" y=\"191.873673\"/>\n      </g>\n     </g>\n     <g id=\"text_5\">\n      <!-- 0.0 -->\n      <g transform=\"translate(7.2 197.952423)scale(0.16 -0.16)\">\n       <use xlink:href=\"#DejaVuSans-48\"/>\n       <use x=\"63.623047\" xlink:href=\"#DejaVuSans-46\"/>\n       <use x=\"95.410156\" xlink:href=\"#DejaVuSans-48\"/>\n      </g>\n     </g>\n    </g>\n    <g id=\"ytick_2\">\n     <g id=\"line2d_11\">\n      <g>\n       <use style=\"stroke:#000000;stroke-width:1.5;\" x=\"36.145\" xlink:href=\"#mb05cc17ac4\" y=\"129.798932\"/>\n      </g>\n     </g>\n     <g id=\"line2d_12\">\n      <g>\n       <use style=\"stroke:#000000;stroke-width:1.5;\" x=\"370.945\" xlink:href=\"#mce3f7f38e8\" y=\"129.798932\"/>\n      </g>\n     </g>\n     <g id=\"text_6\">\n      <!-- 0.2 -->\n      <g transform=\"translate(7.2 135.877682)scale(0.16 -0.16)\">\n       <use xlink:href=\"#DejaVuSans-48\"/>\n       <use x=\"63.623047\" xlink:href=\"#DejaVuSans-46\"/>\n       <use x=\"95.410156\" xlink:href=\"#DejaVuSans-50\"/>\n      </g>\n     </g>\n    </g>\n    <g id=\"ytick_3\">\n     <g id=\"line2d_13\">\n      <g>\n       <use style=\"stroke:#000000;stroke-width:1.5;\" x=\"36.145\" xlink:href=\"#mb05cc17ac4\" y=\"67.724191\"/>\n      </g>\n     </g>\n     <g id=\"line2d_14\">\n      <g>\n       <use style=\"stroke:#000000;stroke-width:1.5;\" x=\"370.945\" xlink:href=\"#mce3f7f38e8\" y=\"67.724191\"/>\n      </g>\n     </g>\n     <g id=\"text_7\">\n      <!-- 0.4 -->\n      <g transform=\"translate(7.2 73.802941)scale(0.16 -0.16)\">\n       <defs>\n        <path d=\"M 37.796875 64.3125 \nL 12.890625 25.390625 \nL 37.796875 25.390625 \nz\nM 35.203125 72.90625 \nL 47.609375 72.90625 \nL 47.609375 25.390625 \nL 58.015625 25.390625 \nL 58.015625 17.1875 \nL 47.609375 17.1875 \nL 47.609375 0 \nL 37.796875 0 \nL 37.796875 17.1875 \nL 4.890625 17.1875 \nL 4.890625 26.703125 \nz\n\" id=\"DejaVuSans-52\"/>\n       </defs>\n       <use xlink:href=\"#DejaVuSans-48\"/>\n       <use x=\"63.623047\" xlink:href=\"#DejaVuSans-46\"/>\n       <use x=\"95.410156\" xlink:href=\"#DejaVuSans-52\"/>\n      </g>\n     </g>\n    </g>\n   </g>\n   <g id=\"line2d_15\">\n    <path clip-path=\"url(#p83fa3dcf6b)\" d=\"M 51.363182 211.247666 \nL 63.288268 207.972659 \nL 74.960731 204.53717 \nL 86.395787 200.940461 \nL 97.608655 197.181177 \nL 108.611511 193.258394 \nL 119.419571 189.169504 \nL 130.041969 184.913575 \nL 140.487833 180.48933 \nL 150.76934 175.893702 \nL 160.898663 171.122895 \nL 170.88189 166.175408 \nL 180.728152 161.047878 \nL 190.443536 155.738058 \nL 200.037174 150.241605 \nL 209.518196 144.553501 \nL 218.889646 138.671911 \nL 228.160655 132.590836 \nL 237.334267 126.30773 \nL 246.419612 119.815469 \nL 255.419735 113.110665 \nL 264.340723 106.18733 \nL 273.185618 99.041385 \nL 281.96051 91.665908 \nL 290.66844 84.056025 \nL 299.315498 76.203759 \nL 307.904725 68.103318 \nL 316.442211 59.74554 \nL 324.927954 51.126738 \nL 333.368042 42.236766 \nL 341.762475 33.071358 \nL 350.11734 23.619276 \nL 355.726818 17.083636 \nL 355.726818 17.083636 \n\" style=\"fill:none;stroke:#ff0000;stroke-linecap:square;\"/>\n   </g>\n   <g id=\"line2d_16\">\n    <path clip-path=\"url(#p83fa3dcf6b)\" d=\"M 104.174362 194.868878 \n\" style=\"fill:none;stroke:#ff7f0e;stroke-linecap:square;\"/>\n    <defs>\n     <path d=\"M -3 3 \nL 3 3 \nL 3 -3 \nL -3 -3 \nz\n\" id=\"m6730904db4\" style=\"stroke:#000000;stroke-linejoin:miter;stroke-width:2;\"/>\n    </defs>\n    <g clip-path=\"url(#p83fa3dcf6b)\">\n     <use style=\"fill:#ff7f0e;stroke:#000000;stroke-linejoin:miter;stroke-width:2;\" x=\"104.174362\" xlink:href=\"#m6730904db4\" y=\"194.868878\"/>\n    </g>\n   </g>\n   <g id=\"line2d_17\">\n    <path clip-path=\"url(#p83fa3dcf6b)\" d=\"M 51.363182 191.873673 \nL 355.726818 191.873673 \n\" style=\"fill:none;stroke:#2ca02c;stroke-linecap:square;\"/>\n   </g>\n   <g id=\"line2d_18\">\n    <path clip-path=\"url(#p83fa3dcf6b)\" d=\"M 51.363182 213.805461 \nL 355.726818 104.66934 \nL 355.726818 104.66934 \n\" style=\"fill:none;stroke:#d62728;stroke-linecap:square;\"/>\n   </g>\n   <g id=\"line2d_19\">\n    <path clip-path=\"url(#p83fa3dcf6b)\" d=\"M 112.527523 191.80439 \n\" style=\"fill:none;stroke:#9467bd;stroke-linecap:square;\"/>\n    <defs>\n     <path d=\"M -3 3 \nL 3 3 \nL 3 -3 \nL -3 -3 \nz\n\" id=\"m7fac6be334\" style=\"stroke:#000000;stroke-linejoin:miter;stroke-width:2;\"/>\n    </defs>\n    <g clip-path=\"url(#p83fa3dcf6b)\">\n     <use style=\"fill:#9467bd;stroke:#000000;stroke-linejoin:miter;stroke-width:2;\" x=\"112.527523\" xlink:href=\"#m7fac6be334\" y=\"191.80439\"/>\n    </g>\n   </g>\n   <g id=\"line2d_20\">\n    <path clip-path=\"url(#p83fa3dcf6b)\" d=\"M 51.363182 214.756364 \nL 355.726818 100.543636 \nL 355.726818 100.543636 \n\" style=\"fill:none;stroke:#8c564b;stroke-linecap:square;\"/>\n   </g>\n   <g id=\"line2d_21\">\n    <path clip-path=\"url(#p83fa3dcf6b)\" d=\"M 112.342892 191.873638 \n\" style=\"fill:none;stroke:#e377c2;stroke-linecap:square;\"/>\n    <defs>\n     <path d=\"M -3 3 \nL 3 3 \nL 3 -3 \nL -3 -3 \nz\n\" id=\"m46a1c45c5e\" style=\"stroke:#000000;stroke-linejoin:miter;stroke-width:2;\"/>\n    </defs>\n    <g clip-path=\"url(#p83fa3dcf6b)\">\n     <use style=\"fill:#e377c2;stroke:#000000;stroke-linejoin:miter;stroke-width:2;\" x=\"112.342892\" xlink:href=\"#m46a1c45c5e\" y=\"191.873638\"/>\n    </g>\n   </g>\n   <g id=\"line2d_22\">\n    <path clip-path=\"url(#p83fa3dcf6b)\" d=\"M 51.363182 214.733486 \nL 355.726818 100.634771 \nL 355.726818 100.634771 \n\" style=\"fill:none;stroke:#7f7f7f;stroke-linecap:square;\"/>\n   </g>\n   <g id=\"line2d_23\">\n    <path clip-path=\"url(#p83fa3dcf6b)\" d=\"M 112.342799 191.873673 \n\" style=\"fill:none;stroke:#bcbd22;stroke-linecap:square;\"/>\n    <defs>\n     <path d=\"M -3 3 \nL 3 3 \nL 3 -3 \nL -3 -3 \nz\n\" id=\"ma1d7de5fcf\" style=\"stroke:#000000;stroke-linejoin:miter;stroke-width:2;\"/>\n    </defs>\n    <g clip-path=\"url(#p83fa3dcf6b)\">\n     <use style=\"fill:#bcbd22;stroke:#000000;stroke-linejoin:miter;stroke-width:2;\" x=\"112.342799\" xlink:href=\"#ma1d7de5fcf\" y=\"191.873673\"/>\n    </g>\n   </g>\n   <g id=\"patch_3\">\n    <path d=\"M 36.145 224.64 \nL 36.145 7.2 \n\" style=\"fill:none;stroke:#000000;stroke-linecap:square;stroke-linejoin:miter;\"/>\n   </g>\n   <g id=\"patch_4\">\n    <path d=\"M 370.945 224.64 \nL 370.945 7.2 \n\" style=\"fill:none;stroke:#000000;stroke-linecap:square;stroke-linejoin:miter;\"/>\n   </g>\n   <g id=\"patch_5\">\n    <path d=\"M 36.145 224.64 \nL 370.945 224.64 \n\" style=\"fill:none;stroke:#000000;stroke-linecap:square;stroke-linejoin:miter;\"/>\n   </g>\n   <g id=\"patch_6\">\n    <path d=\"M 36.145 7.2 \nL 370.945 7.2 \n\" style=\"fill:none;stroke:#000000;stroke-linecap:square;stroke-linejoin:miter;\"/>\n   </g>\n  </g>\n </g>\n <defs>\n  <clipPath id=\"p83fa3dcf6b\">\n   <rect height=\"217.44\" width=\"334.8\" x=\"36.145\" y=\"7.2\"/>\n  </clipPath>\n </defs>\n</svg>\n",
      "image/png": "[encoded data removed]"
     },
     "metadata": {
      "needs_background": "light"
     }
    },
    {
     "output_type": "display_data",
     "data": {
      "text/plain": "<Figure size 432x288 with 1 Axes>",
      "image/svg+xml": "<?xml version=\"1.0\" encoding=\"utf-8\" standalone=\"no\"?>\n<!DOCTYPE svg PUBLIC \"-//W3C//DTD SVG 1.1//EN\"\n  \"http://www.w3.org/Graphics/SVG/1.1/DTD/svg11.dtd\">\n<!-- Created with matplotlib (https://matplotlib.org/) -->\n<svg height=\"206.872959pt\" version=\"1.1\" viewBox=\"0 0 378.145 206.872959\" width=\"378.145pt\" xmlns=\"http://www.w3.org/2000/svg\" xmlns:xlink=\"http://www.w3.org/1999/xlink\">\n <metadata>\n  <rdf:RDF xmlns:cc=\"http://creativecommons.org/ns#\" xmlns:dc=\"http://purl.org/dc/elements/1.1/\" xmlns:rdf=\"http://www.w3.org/1999/02/22-rdf-syntax-ns#\">\n   <cc:Work>\n    <dc:type rdf:resource=\"http://purl.org/dc/dcmitype/StillImage\"/>\n    <dc:date>2020-10-26T15:28:46.039549</dc:date>\n    <dc:format>image/svg+xml</dc:format>\n    <dc:creator>\n     <cc:Agent>\n      <dc:title>Matplotlib v3.3.2, https://matplotlib.org/</dc:title>\n     </cc:Agent>\n    </dc:creator>\n   </cc:Work>\n  </rdf:RDF>\n </metadata>\n <defs>\n  <style type=\"text/css\">*{stroke-linecap:butt;stroke-linejoin:round;}</style>\n </defs>\n <g id=\"figure_1\">\n  <g id=\"patch_1\">\n   <path d=\"M 0 206.872959 \nL 378.145 206.872959 \nL 378.145 0 \nL 0 0 \nz\n\" style=\"fill:none;\"/>\n  </g>\n  <g id=\"axes_1\">\n   <g id=\"patch_2\">\n    <path d=\"M 36.145 180.687959 \nL 370.945 180.687959 \nL 370.945 7.2 \nL 36.145 7.2 \nz\n\" style=\"fill:#ffffff;\"/>\n   </g>\n   <g id=\"matplotlib.axis_1\">\n    <g id=\"xtick_1\">\n     <g id=\"line2d_1\">\n      <defs>\n       <path d=\"M 0 0 \nL 0 -4 \n\" id=\"m376c58d135\" style=\"stroke:#000000;\"/>\n      </defs>\n      <g>\n       <use style=\"stroke:#000000;\" x=\"51.363182\" xlink:href=\"#m376c58d135\" y=\"180.687959\"/>\n      </g>\n     </g>\n     <g id=\"line2d_2\">\n      <defs>\n       <path d=\"M 0 0 \nL 0 4 \n\" id=\"mbbc9f5c86b\" style=\"stroke:#000000;\"/>\n      </defs>\n      <g>\n       <use style=\"stroke:#000000;\" x=\"51.363182\" xlink:href=\"#mbbc9f5c86b\" y=\"7.2\"/>\n      </g>\n     </g>\n     <g id=\"text_1\">\n      <!-- 0.0 -->\n      <g transform=\"translate(38.640682 196.345459)scale(0.16 -0.16)\">\n       <defs>\n        <path d=\"M 31.78125 66.40625 \nQ 24.171875 66.40625 20.328125 58.90625 \nQ 16.5 51.421875 16.5 36.375 \nQ 16.5 21.390625 20.328125 13.890625 \nQ 24.171875 6.390625 31.78125 6.390625 \nQ 39.453125 6.390625 43.28125 13.890625 \nQ 47.125 21.390625 47.125 36.375 \nQ 47.125 51.421875 43.28125 58.90625 \nQ 39.453125 66.40625 31.78125 66.40625 \nz\nM 31.78125 74.21875 \nQ 44.046875 74.21875 50.515625 64.515625 \nQ 56.984375 54.828125 56.984375 36.375 \nQ 56.984375 17.96875 50.515625 8.265625 \nQ 44.046875 -1.421875 31.78125 -1.421875 \nQ 19.53125 -1.421875 13.0625 8.265625 \nQ 6.59375 17.96875 6.59375 36.375 \nQ 6.59375 54.828125 13.0625 64.515625 \nQ 19.53125 74.21875 31.78125 74.21875 \nz\n\" id=\"DejaVuSans-48\"/>\n        <path d=\"M 10.6875 12.40625 \nL 21 12.40625 \nL 21 0 \nL 10.6875 0 \nz\n\" id=\"DejaVuSans-46\"/>\n       </defs>\n       <use xlink:href=\"#DejaVuSans-48\"/>\n       <use x=\"63.623047\" xlink:href=\"#DejaVuSans-46\"/>\n       <use x=\"95.410156\" xlink:href=\"#DejaVuSans-48\"/>\n      </g>\n     </g>\n    </g>\n    <g id=\"xtick_2\">\n     <g id=\"line2d_3\">\n      <g>\n       <use style=\"stroke:#000000;\" x=\"115.863811\" xlink:href=\"#m376c58d135\" y=\"180.687959\"/>\n      </g>\n     </g>\n     <g id=\"line2d_4\">\n      <g>\n       <use style=\"stroke:#000000;\" x=\"115.863811\" xlink:href=\"#mbbc9f5c86b\" y=\"7.2\"/>\n      </g>\n     </g>\n     <g id=\"text_2\">\n      <!-- 0.5 -->\n      <g transform=\"translate(103.141311 196.345459)scale(0.16 -0.16)\">\n       <defs>\n        <path d=\"M 10.796875 72.90625 \nL 49.515625 72.90625 \nL 49.515625 64.59375 \nL 19.828125 64.59375 \nL 19.828125 46.734375 \nQ 21.96875 47.46875 24.109375 47.828125 \nQ 26.265625 48.1875 28.421875 48.1875 \nQ 40.625 48.1875 47.75 41.5 \nQ 54.890625 34.8125 54.890625 23.390625 \nQ 54.890625 11.625 47.5625 5.09375 \nQ 40.234375 -1.421875 26.90625 -1.421875 \nQ 22.3125 -1.421875 17.546875 -0.640625 \nQ 12.796875 0.140625 7.71875 1.703125 \nL 7.71875 11.625 \nQ 12.109375 9.234375 16.796875 8.0625 \nQ 21.484375 6.890625 26.703125 6.890625 \nQ 35.15625 6.890625 40.078125 11.328125 \nQ 45.015625 15.765625 45.015625 23.390625 \nQ 45.015625 31 40.078125 35.4375 \nQ 35.15625 39.890625 26.703125 39.890625 \nQ 22.75 39.890625 18.8125 39.015625 \nQ 14.890625 38.140625 10.796875 36.28125 \nz\n\" id=\"DejaVuSans-53\"/>\n       </defs>\n       <use xlink:href=\"#DejaVuSans-48\"/>\n       <use x=\"63.623047\" xlink:href=\"#DejaVuSans-46\"/>\n       <use x=\"95.410156\" xlink:href=\"#DejaVuSans-53\"/>\n      </g>\n     </g>\n    </g>\n    <g id=\"xtick_3\">\n     <g id=\"line2d_5\">\n      <g>\n       <use style=\"stroke:#000000;\" x=\"180.364439\" xlink:href=\"#m376c58d135\" y=\"180.687959\"/>\n      </g>\n     </g>\n     <g id=\"line2d_6\">\n      <g>\n       <use style=\"stroke:#000000;\" x=\"180.364439\" xlink:href=\"#mbbc9f5c86b\" y=\"7.2\"/>\n      </g>\n     </g>\n     <g id=\"text_3\">\n      <!-- 1.0 -->\n      <g transform=\"translate(167.641939 196.345459)scale(0.16 -0.16)\">\n       <defs>\n        <path d=\"M 12.40625 8.296875 \nL 28.515625 8.296875 \nL 28.515625 63.921875 \nL 10.984375 60.40625 \nL 10.984375 69.390625 \nL 28.421875 72.90625 \nL 38.28125 72.90625 \nL 38.28125 8.296875 \nL 54.390625 8.296875 \nL 54.390625 0 \nL 12.40625 0 \nz\n\" id=\"DejaVuSans-49\"/>\n       </defs>\n       <use xlink:href=\"#DejaVuSans-49\"/>\n       <use x=\"63.623047\" xlink:href=\"#DejaVuSans-46\"/>\n       <use x=\"95.410156\" xlink:href=\"#DejaVuSans-48\"/>\n      </g>\n     </g>\n    </g>\n    <g id=\"xtick_4\">\n     <g id=\"line2d_7\">\n      <g>\n       <use style=\"stroke:#000000;\" x=\"244.865068\" xlink:href=\"#m376c58d135\" y=\"180.687959\"/>\n      </g>\n     </g>\n     <g id=\"line2d_8\">\n      <g>\n       <use style=\"stroke:#000000;\" x=\"244.865068\" xlink:href=\"#mbbc9f5c86b\" y=\"7.2\"/>\n      </g>\n     </g>\n     <g id=\"text_4\">\n      <!-- 1.5 -->\n      <g transform=\"translate(232.142568 196.345459)scale(0.16 -0.16)\">\n       <use xlink:href=\"#DejaVuSans-49\"/>\n       <use x=\"63.623047\" xlink:href=\"#DejaVuSans-46\"/>\n       <use x=\"95.410156\" xlink:href=\"#DejaVuSans-53\"/>\n      </g>\n     </g>\n    </g>\n    <g id=\"xtick_5\">\n     <g id=\"line2d_9\">\n      <g>\n       <use style=\"stroke:#000000;\" x=\"309.365697\" xlink:href=\"#m376c58d135\" y=\"180.687959\"/>\n      </g>\n     </g>\n     <g id=\"line2d_10\">\n      <g>\n       <use style=\"stroke:#000000;\" x=\"309.365697\" xlink:href=\"#mbbc9f5c86b\" y=\"7.2\"/>\n      </g>\n     </g>\n     <g id=\"text_5\">\n      <!-- 2.0 -->\n      <g transform=\"translate(296.643197 196.345459)scale(0.16 -0.16)\">\n       <defs>\n        <path d=\"M 19.1875 8.296875 \nL 53.609375 8.296875 \nL 53.609375 0 \nL 7.328125 0 \nL 7.328125 8.296875 \nQ 12.9375 14.109375 22.625 23.890625 \nQ 32.328125 33.6875 34.8125 36.53125 \nQ 39.546875 41.84375 41.421875 45.53125 \nQ 43.3125 49.21875 43.3125 52.78125 \nQ 43.3125 58.59375 39.234375 62.25 \nQ 35.15625 65.921875 28.609375 65.921875 \nQ 23.96875 65.921875 18.8125 64.3125 \nQ 13.671875 62.703125 7.8125 59.421875 \nL 7.8125 69.390625 \nQ 13.765625 71.78125 18.9375 73 \nQ 24.125 74.21875 28.421875 74.21875 \nQ 39.75 74.21875 46.484375 68.546875 \nQ 53.21875 62.890625 53.21875 53.421875 \nQ 53.21875 48.921875 51.53125 44.890625 \nQ 49.859375 40.875 45.40625 35.40625 \nQ 44.1875 33.984375 37.640625 27.21875 \nQ 31.109375 20.453125 19.1875 8.296875 \nz\n\" id=\"DejaVuSans-50\"/>\n       </defs>\n       <use xlink:href=\"#DejaVuSans-50\"/>\n       <use x=\"63.623047\" xlink:href=\"#DejaVuSans-46\"/>\n       <use x=\"95.410156\" xlink:href=\"#DejaVuSans-48\"/>\n      </g>\n     </g>\n    </g>\n   </g>\n   <g id=\"matplotlib.axis_2\">\n    <g id=\"ytick_1\">\n     <g id=\"line2d_11\">\n      <defs>\n       <path d=\"M 0 0 \nL 4 0 \n\" id=\"m311ff0915a\" style=\"stroke:#000000;stroke-width:1.5;\"/>\n      </defs>\n      <g>\n       <use style=\"stroke:#000000;stroke-width:1.5;\" x=\"36.145\" xlink:href=\"#m311ff0915a\" y=\"172.802143\"/>\n      </g>\n     </g>\n     <g id=\"line2d_12\">\n      <defs>\n       <path d=\"M 0 0 \nL -4 0 \n\" id=\"mb446a0fcf4\" style=\"stroke:#000000;stroke-width:1.5;\"/>\n      </defs>\n      <g>\n       <use style=\"stroke:#000000;stroke-width:1.5;\" x=\"370.945\" xlink:href=\"#mb446a0fcf4\" y=\"172.802143\"/>\n      </g>\n     </g>\n     <g id=\"text_6\">\n      <!-- 0.0 -->\n      <g transform=\"translate(7.2 178.880893)scale(0.16 -0.16)\">\n       <use xlink:href=\"#DejaVuSans-48\"/>\n       <use x=\"63.623047\" xlink:href=\"#DejaVuSans-46\"/>\n       <use x=\"95.410156\" xlink:href=\"#DejaVuSans-48\"/>\n      </g>\n     </g>\n    </g>\n    <g id=\"ytick_2\">\n     <g id=\"line2d_13\">\n      <g>\n       <use style=\"stroke:#000000;stroke-width:1.5;\" x=\"36.145\" xlink:href=\"#m311ff0915a\" y=\"108.301514\"/>\n      </g>\n     </g>\n     <g id=\"line2d_14\">\n      <g>\n       <use style=\"stroke:#000000;stroke-width:1.5;\" x=\"370.945\" xlink:href=\"#mb446a0fcf4\" y=\"108.301514\"/>\n      </g>\n     </g>\n     <g id=\"text_7\">\n      <!-- 0.5 -->\n      <g transform=\"translate(7.2 114.380264)scale(0.16 -0.16)\">\n       <use xlink:href=\"#DejaVuSans-48\"/>\n       <use x=\"63.623047\" xlink:href=\"#DejaVuSans-46\"/>\n       <use x=\"95.410156\" xlink:href=\"#DejaVuSans-53\"/>\n      </g>\n     </g>\n    </g>\n    <g id=\"ytick_3\">\n     <g id=\"line2d_15\">\n      <g>\n       <use style=\"stroke:#000000;stroke-width:1.5;\" x=\"36.145\" xlink:href=\"#m311ff0915a\" y=\"43.800886\"/>\n      </g>\n     </g>\n     <g id=\"line2d_16\">\n      <g>\n       <use style=\"stroke:#000000;stroke-width:1.5;\" x=\"370.945\" xlink:href=\"#mb446a0fcf4\" y=\"43.800886\"/>\n      </g>\n     </g>\n     <g id=\"text_8\">\n      <!-- 1.0 -->\n      <g transform=\"translate(7.2 49.879636)scale(0.16 -0.16)\">\n       <use xlink:href=\"#DejaVuSans-49\"/>\n       <use x=\"63.623047\" xlink:href=\"#DejaVuSans-46\"/>\n       <use x=\"95.410156\" xlink:href=\"#DejaVuSans-48\"/>\n      </g>\n     </g>\n    </g>\n   </g>\n   <g id=\"line2d_17\">\n    <path clip-path=\"url(#p622eca2177)\" d=\"M 180.364439 172.802143 \nL 180.90884 172.603524 \nL 181.455232 172.403229 \nL 182.003622 172.201247 \nL 182.554015 171.997569 \nL 183.106418 171.792183 \nL 183.660835 171.585081 \nL 184.217273 171.376251 \nL 184.775738 171.165682 \nL 185.336235 170.953366 \nL 185.898771 170.73929 \nL 186.463351 170.523445 \nL 187.029982 170.305819 \nL 187.598668 170.086403 \nL 188.169417 169.865185 \nL 188.742234 169.642155 \nL 189.317125 169.417302 \nL 189.894095 169.190614 \nL 190.473152 168.962082 \nL 191.0543 168.731694 \nL 191.637546 168.499438 \nL 192.222896 168.265305 \nL 192.810356 168.029282 \nL 193.399931 167.791359 \nL 193.991629 167.551523 \nL 194.585454 167.309765 \nL 195.181412 167.066072 \nL 195.779511 166.820433 \nL 196.379755 166.572837 \nL 196.982152 166.323272 \nL 197.586706 166.071726 \nL 198.193424 165.818187 \nL 198.802312 165.562645 \nL 199.413377 165.305086 \nL 200.026623 165.0455 \nL 200.642058 164.783874 \nL 201.259688 164.520196 \nL 201.879517 164.254455 \nL 202.501554 163.986638 \nL 203.125803 163.716733 \nL 203.752271 163.444728 \nL 204.380964 163.17061 \nL 205.011888 162.894368 \nL 205.645049 162.615988 \nL 206.280454 162.335459 \nL 206.918108 162.052768 \nL 207.558018 161.767901 \nL 208.20019 161.480848 \nL 208.84463 161.191594 \nL 209.491344 160.900127 \nL 210.140339 160.606435 \nL 210.79162 160.310504 \nL 211.445195 160.012321 \nL 212.101068 159.711874 \nL 212.759246 159.409149 \nL 213.419736 159.104133 \nL 214.082544 158.796813 \nL 214.747676 158.487175 \nL 215.415138 158.175207 \nL 216.084936 157.860895 \nL 216.757077 157.544224 \nL 217.431567 157.225183 \nL 218.108412 156.903756 \nL 218.787619 156.579932 \nL 219.469193 156.253694 \nL 220.153142 155.925031 \nL 220.839471 155.593927 \nL 221.528186 155.26037 \nL 222.219294 154.924344 \nL 222.912802 154.585837 \nL 223.608715 154.244833 \nL 224.307039 153.901318 \nL 225.007782 153.555279 \nL 225.71095 153.2067 \nL 226.416548 152.855568 \nL 227.124583 152.501867 \nL 227.835061 152.145584 \nL 228.54799 151.786703 \nL 229.263374 151.42521 \nL 229.981221 151.06109 \nL 230.701536 150.694328 \nL 231.424327 150.324909 \nL 232.149599 149.952819 \nL 232.877359 149.578041 \nL 233.607614 149.200562 \nL 234.340369 148.820365 \nL 235.07563 148.437435 \nL 235.813405 148.051758 \nL 236.5537 147.663316 \nL 237.296521 147.272096 \nL 238.041874 146.878081 \nL 238.789766 146.481256 \nL 239.540204 146.081604 \nL 240.293193 145.679111 \nL 241.048739 145.273759 \nL 241.806851 144.865534 \nL 242.567533 144.454419 \nL 243.330792 144.040397 \nL 244.096635 143.623453 \nL 244.865068 143.203571 \n\" style=\"fill:none;stroke:#000000;stroke-linecap:square;\"/>\n   </g>\n   <g id=\"line2d_18\">\n    <path clip-path=\"url(#p622eca2177)\" d=\"M 51.363182 171.51036 \nL 203.545 163.534849 \n\" style=\"fill:none;stroke:#006400;stroke-linecap:square;\"/>\n   </g>\n   <g id=\"line2d_19\">\n    <path clip-path=\"url(#p622eca2177)\" d=\"M 203.545 163.534849 \nL 139.044371 15.085816 \n\" style=\"fill:none;stroke:#ff0000;stroke-linecap:square;\"/>\n   </g>\n   <g id=\"line2d_20\">\n    <path clip-path=\"url(#p622eca2177)\" d=\"M 203.545 163.534849 \nL 355.726818 16.730623 \n\" style=\"fill:none;stroke:#ff0000;stroke-linecap:square;\"/>\n    <defs>\n     <path d=\"M -3 3 \nL 3 3 \nL 3 -3 \nL -3 -3 \nz\n\" id=\"m903714f5a3\" style=\"stroke:#000000;stroke-linejoin:miter;stroke-width:2;\"/>\n    </defs>\n    <g clip-path=\"url(#p622eca2177)\">\n     <use style=\"fill:#ff0000;stroke:#000000;stroke-linejoin:miter;stroke-width:2;\" x=\"203.545\" xlink:href=\"#m903714f5a3\" y=\"163.534849\"/>\n     <use style=\"fill:#ff0000;stroke:#000000;stroke-linejoin:miter;stroke-width:2;\" x=\"355.726818\" xlink:href=\"#m903714f5a3\" y=\"16.730623\"/>\n    </g>\n   </g>\n   <g id=\"patch_3\">\n    <path d=\"M 36.145 180.687959 \nL 36.145 7.2 \n\" style=\"fill:none;stroke:#000000;stroke-linecap:square;stroke-linejoin:miter;\"/>\n   </g>\n   <g id=\"patch_4\">\n    <path d=\"M 370.945 180.687959 \nL 370.945 7.2 \n\" style=\"fill:none;stroke:#000000;stroke-linecap:square;stroke-linejoin:miter;\"/>\n   </g>\n   <g id=\"patch_5\">\n    <path d=\"M 36.145 180.687959 \nL 370.945 180.687959 \n\" style=\"fill:none;stroke:#000000;stroke-linecap:square;stroke-linejoin:miter;\"/>\n   </g>\n   <g id=\"patch_6\">\n    <path d=\"M 36.145 7.2 \nL 370.945 7.2 \n\" style=\"fill:none;stroke:#000000;stroke-linecap:square;stroke-linejoin:miter;\"/>\n   </g>\n  </g>\n </g>\n <defs>\n  <clipPath id=\"p622eca2177\">\n   <rect height=\"173.487959\" width=\"334.8\" x=\"36.145\" y=\"7.2\"/>\n  </clipPath>\n </defs>\n</svg>\n",
      "image/png": "[encoded data removed]"
     },
     "metadata": {
      "needs_background": "light"
     }
    }
   ],
   "source": [
    "import LogSpiralCalc as lgs\n",
    "line = lgs.Line2D(0,0.01)\n",
    "%matplotlib inline\n",
    "line.rotate_line(3)\n",
    "log = lgs.LogSpiral(1, 1.5, 15,10)\n",
    "inters = lgs.Intersection(log, line)\n",
    "print('prelimx', inters.return_prelim_x())\n",
    "print('finex', inters.return_scatter_coords()[0])\n",
    "fig, ax = inters.plot_intersection()\n",
    "ax.set_aspect('equal')"
   ]
  },
  {
   "cell_type": "code",
   "execution_count": 15,
   "metadata": {},
   "outputs": [],
   "source": [
    "lst = [[1,2],[3,4],[5,6]] "
   ]
  },
  {
   "cell_type": "code",
   "execution_count": 16,
   "metadata": {},
   "outputs": [
    {
     "output_type": "execute_result",
     "data": {
      "text/plain": [
       "[[1, 3, 5], [2, 4, 6]]"
      ]
     },
     "metadata": {},
     "execution_count": 16
    }
   ],
   "source": [
    "[[row[colind] for row in lst] for colind,_ in enumerate(lst[0])]"
   ]
  },
  {
   "cell_type": "code",
   "execution_count": null,
   "metadata": {},
   "outputs": [],
   "source": []
  }
 ],
 "metadata": {
  "kernelspec": {
   "display_name": "Python 3",
   "language": "python",
   "name": "python3"
  },
  "language_info": {
   "codemirror_mode": {
    "name": "ipython",
    "version": 3
   },
   "file_extension": ".py",
   "mimetype": "text/x-python",
   "name": "python",
   "nbconvert_exporter": "python",
   "pygments_lexer": "ipython3",
   "version": "3.8.5-final"
  }
 },
 "nbformat": 4,
 "nbformat_minor": 4
}