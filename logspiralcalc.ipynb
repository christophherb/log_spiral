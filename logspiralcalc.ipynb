{
 "cells": [
  {
   "cell_type": "code",
   "execution_count": 2,
   "metadata": {},
   "outputs": [
    {
     "output_type": "stream",
     "name": "stdout",
     "text": [
      "-1.1111707845935506\n"
     ]
    },
    {
     "output_type": "execute_result",
     "data": {
      "text/plain": [
       "nan"
      ]
     },
     "metadata": {},
     "execution_count": 2
    }
   ],
   "source": [
    "from numpy import log,sin,cos,pi,exp,tan\n",
    "\n",
    "def calc_one(r,b,m,phi):\n",
    "    print(b/(r*(sin(phi)-m*cos(phi))))\n",
    "    return log(b/(r*(sin(phi)-m*cos(phi))))/b\n",
    "\n",
    "calc_one(1,0.1,0.1,0.01)"
   ]
  },
  {
   "cell_type": "code",
   "execution_count": 119,
   "metadata": {},
   "outputs": [],
   "source": [
    "import numpy as np\n",
    "import matplotlib.pyplot as plt\n",
    "class LogSpiral:\n",
    "    def __init__(self, psi, xh=1):\n",
    "        rad_psi = psi*np.pi/180\n",
    "        self.k = 1/np.tan(rad_psi)\n",
    "        def func(theta):\n",
    "            return xh*np.exp(self.k*theta)\n",
    "        self.rad_psi = rad_psi\n",
    "        self.func = func\n",
    "        self.xh = xh\n",
    "    \n",
    "    def plot_spiral(self, theta_range):\n",
    "        fig,ax = plt.subplots(1)\n",
    "        x_spiral = np.cos(theta_range)*self.func(theta_range)\n",
    "        y_spiral = self.func(theta_range)*np.sin(theta_range)\n",
    "        ax.plot(x_spiral, y_spiral, linestyle='-', marker=' ')\n",
    "        ylims = ax.get_ylim()\n",
    "        ax.set_ylim(0,ylims[1])\n",
    "        ax.set_aspect('equal')\n",
    "        for y_final in np.linspace(0, y_spiral[-1], 10):\n",
    "            print(y_final)\n",
    "            ax.plot([0, x_spiral[-1]*2], [0, y_final], linestyle = '-', marker=' ', color='black')\n",
    "\n",
    "\n",
    "class LogSpiralMirror:\n",
    "    def __init__(self, xstart, xend, psi):\n",
    "        self.xstart = xstart\n",
    "        self.theta_start = 0\n",
    "        self.xend = xend\n",
    "        self.psi = psi\n",
    "        self.psi_rad = np.pi/180*psi\n",
    "        self.k = 1/np.tan(self.psi_rad)\n",
    "        self.function = lambda theta: np.cos(theta)*self.xstart*np.exp(self.k*theta)-self.xend\n",
    "        self.derivative = lambda theta: self.xstart*np.exp(self.k*theta)*(np.cos(theta)*self.k-np.sin(theta))\n",
    "\n",
    "    def return_r(self, theta):\n",
    "        return self.xstart*np.exp(self.k*theta)\n",
    "\n",
    "    def return_cart_coords(self, theta):\n",
    "        r = self.return_r(theta)\n",
    "        x = np.cos(theta)*r\n",
    "        y = np.sin(theta)*r\n",
    "        return x,y\n",
    "\n",
    "    def return_prelim_theta(self):\n",
    "        prelim_theta = np.log(self.xend/self.xstart)*1/self.k\n",
    "        return prelim_theta\n",
    "\n",
    "    def return_precise_theta(self, max_iterations=10, precision=10**-5):\n",
    "        x_0 = self.return_prelim_theta()\n",
    "        for k in range(max_iterations):\n",
    "            x_n = x_0 - self.function(x_0)/self.derivative(x_0)\n",
    "\n",
    "            if abs(x_0-x_n) < precision:\n",
    "                return x_n\n",
    "            x_0 = x_n\n",
    "        return None\n",
    "\n",
    "    def update_theta_end(self, max_iterations=10, precision=10**-5):\n",
    "        self.theta_end = self.return_precise_theta(max_iterations=max_iterations, precision=precision)\n",
    "\n",
    "    def return_equiv_line(self):\n",
    "        xstart = self.xstart\n",
    "        ystart = 0\n",
    "        theta = self.return_precise_theta() \n",
    "        xend,yend = self.return_cart_coords(theta)\n",
    "\n"
   ]
  },
  {
   "cell_type": "code",
   "execution_count": 120,
   "metadata": {},
   "outputs": [
    {
     "output_type": "stream",
     "name": "stdout",
     "text": [
      "0.012100206914398618\n"
     ]
    },
    {
     "output_type": "execute_result",
     "data": {
      "text/plain": [
       "(2.0, 0.02420159499923009)"
      ]
     },
     "metadata": {},
     "execution_count": 120
    }
   ],
   "source": [
    "%matplotlib qt\n",
    "L = LogSpiralMirror(1,2,1)\n",
    "L.update_theta_end(precision=10**-6)\n",
    "print(L.theta_end)\n",
    "L.return_cart_coords(L.theta_end)"
   ]
  },
  {
   "cell_type": "code",
   "execution_count": 116,
   "metadata": {},
   "outputs": [
    {
     "output_type": "stream",
     "name": "stdout",
     "text": [
      "0.012098929041484803\n",
      "x0 0.012098929041484803 xn 0.012100206961151709\n",
      "x0 0.012100206961151709 xn 0.012100206914398618\n",
      "x0 0.012100206914398618 xn 0.012100206914398618\n",
      "iterations 2\n",
      "x0 0.012098929041484803 xn 0.012100206961151709\n",
      "x0 0.012100206961151709 xn 0.012100206914398618\n",
      "x0 0.012100206914398618 xn 0.012100206914398618\n",
      "iterations 2\n"
     ]
    },
    {
     "output_type": "execute_result",
     "data": {
      "text/plain": [
       "[<matplotlib.lines.Line2D at 0x7fba88b28310>]"
      ]
     },
     "metadata": {},
     "execution_count": 116
    }
   ],
   "source": [
    "# test case \n",
    "xs = 1\n",
    "xe = 2\n",
    "psi = 1#deg\n",
    "psi_rad = np.pi/180*psi\n",
    "k = 1/np.tan(psi_rad)\n",
    "prelim_theta_end = np.log(xe/xs)/k\n",
    "function = lambda theta: np.cos(theta)*xs*np.exp(k*theta)-xe\n",
    "derivative = lambda theta: xs*np.exp(k*theta)*(np.cos(theta)*k-np.sin(theta))\n",
    "\n",
    "\n",
    "print(prelim_theta_end)\n",
    "\n",
    "def newton(x0, func, deriv, prec=0.00000000001):\n",
    "    for k in range(100):\n",
    "        xn = x0 - func(x0)/deriv(x0)\n",
    "        print('x0', x0, 'xn', xn)\n",
    "        if abs(xn-x0) < prec:\n",
    "            print('iterations {}'.format(k))\n",
    "            return xn\n",
    "        x0 = xn\n",
    "    return None\n",
    "theta_range = np.linspace(0,prelim_theta_end*2,100)\n",
    "fig,ax = plt.subplots(1)\n",
    "ax.plot(theta_range,function(theta_range),linestyle='-', marker=' ')\n",
    "ax.plot([0,0.025],[newton(prelim_theta_end, function, derivative),newton(prelim_theta_end, function, derivative)])\n"
   ]
  },
  {
   "cell_type": "code",
   "execution_count": 89,
   "metadata": {},
   "outputs": [
    {
     "output_type": "stream",
     "name": "stdout",
     "text": [
      "3.7320508075688776\n0\n0.6554010122828375\n0.4730702054332011\n0.3432435284111798\n0.2824386989841595\n0.2711896803455817\n0.27085609879452566 (2.64774867776953, 0.7352269223831615)\n0\n0.6554010122828375\n0.4730702054332011\n0.3432435284111798\n0.2824386989841595\n0.2711896803455817\n4\n3.774522117386749\n3.568065876022619\n3.384712728414591\n3.2316687202272667\n3.1197945836459113\n3.059357182047506\n3.042977108798022\n3.041916534349557\n"
     ]
    },
    {
     "output_type": "execute_result",
     "data": {
      "text/plain": [
       "(-20.0, 20.0)"
      ]
     },
     "metadata": {},
     "execution_count": 89
    }
   ],
   "source": [
    "\n",
    "def newton_spiral(phi,r,b,m,t):\n",
    "    return r*exp(b*phi)*(sin(phi)-m*cos(phi))-t \n",
    "def newton_der_spiral(phi,r,b,m,t):\n",
    "    return r*b*exp(b*phi)*(sin(phi)-m*cos(phi)) + r*exp(b*phi)*(cos(phi)+m*sin(phi))\n",
    "def newtonit(x,params):\n",
    "    '''\n",
    "    everybodys beloved newton thingy\n",
    "    x_n+1 = x_n -f(x_n)/f'(x_n)\n",
    "    '''\n",
    "    x_old = float('Inf')\n",
    "    while True:\n",
    "        if abs(x-x_old) < 10**-3:\n",
    "            break\n",
    "        x_old = x\n",
    "        x = x_old-newton_spiral(x_old,*params)/newton_der_spiral(x_old,*params)\n",
    "        print(x_old)\n",
    "    return x\n",
    "\n",
    "\n",
    "rotations = 1\n",
    "m= -0.1\n",
    "angle = 15#deg\n",
    "b = 1/tan(angle*pi/180)\n",
    "print(b)\n",
    "r = 1\n",
    "t = 1\n",
    "phis = np.linspace(-rotations*2*pi,rotations*2*pi,101*rotations)\n",
    "params = [r,b,m,t]\n",
    "\n",
    "fig,ax = plt.subplots(1)\n",
    "ax.plot(phis,newton_spiral(phis,r,b,m,t),linestyle = '-',marker = ' ')\n",
    "ax.plot(phis,newton_der_spiral(phis,r,b,m,t),linestyle = '-',marker = ' ',color = 'black')\n",
    "ax.hlines(0,0,rotations*2*pi)\n",
    "ax.set_ylim(-10,10)\n",
    "ax.set_xlim(-20,20)\n",
    "\n",
    "\n",
    "phi_inter = newtonit(0,params)\n",
    "r_inter = log_spiral(phi_inter,r,b)\n",
    "print(phi_inter,r_inter)\n",
    "\n",
    "ax.set_title(round(phi_inter*180/pi,4))\n",
    "ax.vlines(newtonit(0,params),-2,2)\n",
    "ax.vlines(newtonit(4,params),-2,2)\n",
    "\n",
    "params = [r,b,m,t]\n",
    "#(newtonit(3,params))-(newtonit(1,params))\n",
    "fig,ax = plt.subplots(1)\n",
    "ax.plot(*log_spiral(phis,r,b),linestyle = '-',marker = ' ')\n",
    "ax.plot(np.linspace(0,40,101),mxt(np.linspace(0,40,101),m,t),linestyle = '-',marker = ' ')\n",
    "ax.plot([0,r_inter[0]],[0,r_inter[1]],linestyle = '-',marker = ' ')\n",
    "ax.set_ylim(-20,20)\n",
    "ax.set_xlim(-20,20)"
   ]
  },
  {
   "cell_type": "code",
   "execution_count": 21,
   "metadata": {},
   "outputs": [
    {
     "data": {
      "text/plain": [
       "(0.7071067811865475, 0.7071067811865476)"
      ]
     },
     "execution_count": 21,
     "metadata": {},
     "output_type": "execute_result"
    }
   ],
   "source": [
    "sin(phi),cos(phi)"
   ]
  },
  {
   "cell_type": "code",
   "execution_count": 3,
   "metadata": {},
   "outputs": [
    {
     "output_type": "stream",
     "name": "stdout",
     "text": [
      "incoming 1 0.0125\ntheta 0.7161599454704254\nnormal 0.2876306567488805 -0.9577414083656444\nbefore 1.00015625\ntheta 0.7161599454704254\nnormal 0.2876306567488805 -0.9577414083656444\nnormalize 1.0000000000000002\nafter 1.0001562499999999\nreflected 1 0.6423869508802225\n"
     ]
    }
   ],
   "source": [
    "import LogSpiralCalc as lgs\n",
    "%matplotlib qt\n",
    "l = lgs.LogSpiral(1, 2, 16)\n",
    "l.return_equiv_line(plot=False)\n",
    "line = lgs.Line2D(0.0125,0)\n",
    "inters = lgs.Intersection(l,line)\n",
    "#l.return_equiv_line(plot=True)\n",
    "inters.return_scatter_coords()\n",
    "try:\n",
    "    fig,ax = inters.plot_intersection()\n",
    "    ax.set_aspect('equal')\n",
    "except:\n",
    "    pass"
   ]
  },
  {
   "cell_type": "code",
   "execution_count": null,
   "metadata": {},
   "outputs": [],
   "source": []
  },
  {
   "cell_type": "code",
   "execution_count": null,
   "metadata": {},
   "outputs": [],
   "source": []
  }
 ],
 "metadata": {
  "kernelspec": {
   "display_name": "Python 3",
   "language": "python",
   "name": "python3"
  },
  "language_info": {
   "codemirror_mode": {
    "name": "ipython",
    "version": 3
   },
   "file_extension": ".py",
   "mimetype": "text/x-python",
   "name": "python",
   "nbconvert_exporter": "python",
   "pygments_lexer": "ipython3",
   "version": "3.8.5-final"
  }
 },
 "nbformat": 4,
 "nbformat_minor": 4
}