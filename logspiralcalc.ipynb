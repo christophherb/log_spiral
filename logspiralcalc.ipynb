{
 "cells": [
  {
   "cell_type": "markdown",
   "source": [
    "# Test for intersection"
   ],
   "metadata": {}
  },
  {
   "cell_type": "code",
   "execution_count": 3,
   "source": [
    "import LogSpiralCalc as lgs\n",
    "x0, y0 = 0, 0.11\n",
    "xdir, ydir = 1, -0.01\n",
    "line = lgs.Line2D(x0, y0, xdir, ydir)\n",
    "log = lgs.LogSpiral(xstart=1.0, xend=2, psi=8, theta_range=15)\n",
    "inter = lgs.Intersection(log, line)\n",
    "print('x y', inter.return_scatter_coords())\n",
    "fig, ax = log.plot_log_spir()\n",
    "x, y = zip(line.return_coords(0), line.return_coords(2))\n",
    "ax.plot(x, y, marker=' ', linestyle='-')\n"
   ],
   "outputs": [
    {
     "output_type": "stream",
     "name": "stdout",
     "text": [
      "x y (1.5429493676196546, 0.09457050632433887)\n"
     ]
    },
    {
     "output_type": "execute_result",
     "data": {
      "text/plain": [
       "[<matplotlib.lines.Line2D at 0x7fd97a536640>]"
      ]
     },
     "metadata": {},
     "execution_count": 3
    },
    {
     "output_type": "display_data",
     "data": {
      "text/plain": [
       "<Figure size 432x288 with 1 Axes>"
      ],
      "image/png": "[encoded data removed]"
     },
     "metadata": {
      "needs_background": "light"
     }
    }
   ],
   "metadata": {}
  },
  {
   "cell_type": "markdown",
   "source": [
    "# Test for branches"
   ],
   "metadata": {}
  },
  {
   "cell_type": "code",
   "execution_count": 10,
   "source": [
    "import LogSpiralCalc as lgs\n",
    "%matplotlib qt\n",
    "x0, y0 = 0, 0.11\n",
    "xdir, ydir = 1, -0.01\n",
    "line = lgs.Line2D(x0, y0, xdir, ydir)\n",
    "log  = lgs.LogSpiral(xstart=1.0, xend=2, psi=9, theta_range=15)\n",
    "fig, ax = log.plot_log_spir()\n",
    "inters = lgs.Intersection(log, line)\n",
    "#theta = inters.return_prelim_theta_int()\n",
    "x, y = zip(line.return_coords(0), line.return_coords(2))\n",
    "print('xend, yend', x, y, line.return_coords(2))\n",
    "#print(inters.return_prelim_x())\n",
    "#theta = inters.return_precise_thetaint()\n",
    "#print('precise', inters.logspir.return_cart_coords(theta))\n",
    "print(inters.return_all_branches())\n",
    "ax.plot(x, y, marker=' ')\n",
    "ax.set_aspect('equal')"
   ],
   "outputs": [
    {
     "output_type": "stream",
     "name": "stdout",
     "text": [
      "xend, yend (0, 2) (0.11, 0.09) (2, 0.09)\n",
      "no can do  1\n",
      "[(1.4916587697975878, 1.4916587697975878, 0.09508341230308401)]\n"
     ]
    }
   ],
   "metadata": {}
  },
  {
   "cell_type": "code",
   "execution_count": 7,
   "source": [
    "# test case \n",
    "xs = 1\n",
    "xe = 2\n",
    "psi = 1#deg\n",
    "psi_rad = np.pi/180*psi\n",
    "k = 1/np.tan(psi_rad)\n",
    "prelim_theta_end = np.log(xe/xs)/k\n",
    "function = lambda theta: np.cos(theta)*xs*np.exp(k*theta)-xe\n",
    "derivative = lambda theta: xs*np.exp(k*theta)*(np.cos(theta)*k-np.sin(theta))\n",
    "\n",
    "\n",
    "print(prelim_theta_end)\n",
    "\n",
    "def newton(x0, func, deriv, prec=0.00000000001):\n",
    "    for k in range(100):\n",
    "        xn = x0 - func(x0)/deriv(x0)\n",
    "        print('x0', x0, 'xn', xn)\n",
    "        if abs(xn-x0) < prec:\n",
    "            print('iterations {}'.format(k))\n",
    "            return xn\n",
    "        x0 = xn\n",
    "    return None\n",
    "theta_range = np.linspace(0,prelim_theta_end*2,100)\n",
    "fig,ax = plt.subplots(1)\n",
    "ax.plot(theta_range,function(theta_range),linestyle='-', marker=' ')\n",
    "ax.plot([0,0.025],[newton(prelim_theta_end, function, derivative),newton(prelim_theta_end, function, derivative)])\n"
   ],
   "outputs": [
    {
     "output_type": "stream",
     "name": "stdout",
     "text": [
      "0.012098929041484803\n",
      "x0 0.012098929041484803 xn 0.012100206961151709\n",
      "x0 0.012100206961151709 xn 0.012100206914398618\n",
      "x0 0.012100206914398618 xn 0.012100206914398618\n",
      "iterations 2\n",
      "x0 0.012098929041484803 xn 0.012100206961151709\n",
      "x0 0.012100206961151709 xn 0.012100206914398618\n",
      "x0 0.012100206914398618 xn 0.012100206914398618\n",
      "iterations 2\n"
     ]
    },
    {
     "output_type": "execute_result",
     "data": {
      "text/plain": [
       "[<matplotlib.lines.Line2D at 0x7fd93dcb1c40>]"
      ]
     },
     "metadata": {},
     "execution_count": 7
    }
   ],
   "metadata": {}
  },
  {
   "cell_type": "code",
   "execution_count": 2,
   "source": [
    "%config IPCompleter.use_jedi = False"
   ],
   "outputs": [],
   "metadata": {}
  },
  {
   "cell_type": "code",
   "execution_count": 4,
   "source": [
    "import LogSpiralCalc as lgs\n",
    "%matplotlib qt\n",
    "l = lgs.LogSpiral(1, 2, 16,12)\n",
    "l.return_equiv_vector(plot=False)\n",
    "m = 0.15\n",
    "xdir = 1\n",
    "ydir = 0.15\n",
    "y0 = -0.05\n",
    "x0 = 0\n",
    "line = lgs.Line2D(x0, y0, xdir, ydir)\n",
    "inters = lgs.Intersection(l,line)\n",
    "#l.return_equiv_line(plot=True)\n",
    "theta_int = inters.return_precise_thetaint(max_iterations=100, precision=10**-9)\n",
    "print(theta_int)\n",
    "#print(0 < theta_int < inters.logspir.theta_end)\n",
    "inters.return_scatter_coords()\n",
    "\n",
    "try:\n",
    "    fig,ax = inters.plot_intersection()\n",
    "    ax.set_aspect('equal')\n",
    "    ax.plot([0,1], [y0,y0+m])\n",
    "except:\n",
    "    pass"
   ],
   "outputs": [
    {
     "output_type": "stream",
     "name": "stdout",
     "text": [
      "0.11587444732306833\n"
     ]
    }
   ],
   "metadata": {}
  },
  {
   "cell_type": "code",
   "execution_count": 15,
   "source": [
    "import LogSpiralCalc as lgs\n",
    "%matplotlib qt\n",
    "theta = -45\n",
    "y0 = 10\n",
    "m = 0\n",
    "line = lgs.Line2D(x0 ,y0, xdir, ydir)\n",
    "rot_line = line\n",
    "rot_line.rotate_line(theta)\n",
    "m_rot, y0_rot = rot_line.return_turned_line(theta)\n",
    "fig,ax = plt.subplots(1)\n",
    "calcy_line = lambda x: line.y0 + line.m * x\n",
    "calcy_rot  = lambda x: m_rot * x + y0_rot\n",
    "xs = np.linspace(-10,10,100)\n",
    "## point \n",
    "xr = -np.sin(theta*np.pi/180)*y0\n",
    "yr = np.cos(theta*np.pi/180)*y0\n",
    "\n",
    "ax.plot(xs, calcy_line(xs), marker = ' ', linestyle='-')\n",
    "ax.plot(xs, calcy_rot(xs), marker = ' ', linestyle='-')\n",
    "ax.set_aspect('equal')\n",
    "ax.plot(xr,yr)\n"
   ],
   "outputs": [
    {
     "output_type": "error",
     "ename": "AttributeError",
     "evalue": "'Line2D' object has no attribute 'return_turned_line'",
     "traceback": [
      "\u001b[0;31m---------------------------------------------------------------------------\u001b[0m",
      "\u001b[0;31mAttributeError\u001b[0m                            Traceback (most recent call last)",
      "\u001b[0;32m<ipython-input-15-c80e94a5796a>\u001b[0m in \u001b[0;36m<module>\u001b[0;34m\u001b[0m\n\u001b[1;32m      7\u001b[0m \u001b[0mrot_line\u001b[0m \u001b[0;34m=\u001b[0m \u001b[0mline\u001b[0m\u001b[0;34m\u001b[0m\u001b[0;34m\u001b[0m\u001b[0m\n\u001b[1;32m      8\u001b[0m \u001b[0mrot_line\u001b[0m\u001b[0;34m.\u001b[0m\u001b[0mrotate_line\u001b[0m\u001b[0;34m(\u001b[0m\u001b[0mtheta\u001b[0m\u001b[0;34m)\u001b[0m\u001b[0;34m\u001b[0m\u001b[0;34m\u001b[0m\u001b[0m\n\u001b[0;32m----> 9\u001b[0;31m \u001b[0mm_rot\u001b[0m\u001b[0;34m,\u001b[0m \u001b[0my0_rot\u001b[0m \u001b[0;34m=\u001b[0m \u001b[0mrot_line\u001b[0m\u001b[0;34m.\u001b[0m\u001b[0mreturn_turned_line\u001b[0m\u001b[0;34m(\u001b[0m\u001b[0mtheta\u001b[0m\u001b[0;34m)\u001b[0m\u001b[0;34m\u001b[0m\u001b[0;34m\u001b[0m\u001b[0m\n\u001b[0m\u001b[1;32m     10\u001b[0m \u001b[0mfig\u001b[0m\u001b[0;34m,\u001b[0m\u001b[0max\u001b[0m \u001b[0;34m=\u001b[0m \u001b[0mplt\u001b[0m\u001b[0;34m.\u001b[0m\u001b[0msubplots\u001b[0m\u001b[0;34m(\u001b[0m\u001b[0;36m1\u001b[0m\u001b[0;34m)\u001b[0m\u001b[0;34m\u001b[0m\u001b[0;34m\u001b[0m\u001b[0m\n\u001b[1;32m     11\u001b[0m \u001b[0mcalcy_line\u001b[0m \u001b[0;34m=\u001b[0m \u001b[0;32mlambda\u001b[0m \u001b[0mx\u001b[0m\u001b[0;34m:\u001b[0m \u001b[0mline\u001b[0m\u001b[0;34m.\u001b[0m\u001b[0my0\u001b[0m \u001b[0;34m+\u001b[0m \u001b[0mline\u001b[0m\u001b[0;34m.\u001b[0m\u001b[0mm\u001b[0m \u001b[0;34m*\u001b[0m \u001b[0mx\u001b[0m\u001b[0;34m\u001b[0m\u001b[0;34m\u001b[0m\u001b[0m\n",
      "\u001b[0;31mAttributeError\u001b[0m: 'Line2D' object has no attribute 'return_turned_line'"
     ]
    }
   ],
   "metadata": {}
  },
  {
   "cell_type": "code",
   "execution_count": 1,
   "source": [
    "import LogSpiralCalc as lgs\n",
    "log = lgs.LogSpiral()"
   ],
   "outputs": [],
   "metadata": {}
  },
  {
   "cell_type": "code",
   "execution_count": 2,
   "source": [
    "import LogSpiralCalc as lgs\n",
    "line = lgs.Line2D(0, 0.01)\n",
    "%matplotlib inline\n",
    "line.rotate_line(3)\n",
    "log = lgs.LogSpiral(1, 1.5, 15,10)\n",
    "inters = lgs.Intersection(log, line)\n",
    "fig, ax = log.plot_log_spir()\n",
    "ax.plot([0, 2], [line.return_coords(0)[1], line.return_coords(2)[1]])\n",
    "print('rotated?',line.m, line.y0)\n",
    "print(inters.return_all_branches())\n",
    "ax.plot([0, 2], [line.return_coords(0)[1], line.return_coords(2)[1]])\n",
    "print('rotated?',line.m, line.y0)\n",
    "print('prelimx', inters.return_prelim_x())\n",
    "\n",
    "fig, ax = inters.plot_intersection()\n",
    "ax.set_aspect('equal')"
   ],
   "outputs": [
    {
     "output_type": "error",
     "ename": "TypeError",
     "evalue": "__init__() missing 2 required positional arguments: 'xdir' and 'ydir'",
     "traceback": [
      "\u001b[0;31m---------------------------------------------------------------------------\u001b[0m",
      "\u001b[0;31mTypeError\u001b[0m                                 Traceback (most recent call last)",
      "\u001b[0;32m<ipython-input-2-0d13e4d4aab4>\u001b[0m in \u001b[0;36m<module>\u001b[0;34m\u001b[0m\n\u001b[1;32m      1\u001b[0m \u001b[0;32mimport\u001b[0m \u001b[0mLogSpiralCalc\u001b[0m \u001b[0;32mas\u001b[0m \u001b[0mlgs\u001b[0m\u001b[0;34m\u001b[0m\u001b[0;34m\u001b[0m\u001b[0m\n\u001b[0;32m----> 2\u001b[0;31m \u001b[0mline\u001b[0m \u001b[0;34m=\u001b[0m \u001b[0mlgs\u001b[0m\u001b[0;34m.\u001b[0m\u001b[0mLine2D\u001b[0m\u001b[0;34m(\u001b[0m\u001b[0;36m0\u001b[0m\u001b[0;34m,\u001b[0m \u001b[0;36m0.01\u001b[0m\u001b[0;34m)\u001b[0m\u001b[0;34m\u001b[0m\u001b[0;34m\u001b[0m\u001b[0m\n\u001b[0m\u001b[1;32m      3\u001b[0m \u001b[0mget_ipython\u001b[0m\u001b[0;34m(\u001b[0m\u001b[0;34m)\u001b[0m\u001b[0;34m.\u001b[0m\u001b[0mrun_line_magic\u001b[0m\u001b[0;34m(\u001b[0m\u001b[0;34m'matplotlib'\u001b[0m\u001b[0;34m,\u001b[0m \u001b[0;34m'inline'\u001b[0m\u001b[0;34m)\u001b[0m\u001b[0;34m\u001b[0m\u001b[0;34m\u001b[0m\u001b[0m\n\u001b[1;32m      4\u001b[0m \u001b[0mline\u001b[0m\u001b[0;34m.\u001b[0m\u001b[0mrotate_line\u001b[0m\u001b[0;34m(\u001b[0m\u001b[0;36m3\u001b[0m\u001b[0;34m)\u001b[0m\u001b[0;34m\u001b[0m\u001b[0;34m\u001b[0m\u001b[0m\n\u001b[1;32m      5\u001b[0m \u001b[0mlog\u001b[0m \u001b[0;34m=\u001b[0m \u001b[0mlgs\u001b[0m\u001b[0;34m.\u001b[0m\u001b[0mLogSpiral\u001b[0m\u001b[0;34m(\u001b[0m\u001b[0;36m1\u001b[0m\u001b[0;34m,\u001b[0m \u001b[0;36m1.5\u001b[0m\u001b[0;34m,\u001b[0m \u001b[0;36m15\u001b[0m\u001b[0;34m,\u001b[0m\u001b[0;36m10\u001b[0m\u001b[0;34m)\u001b[0m\u001b[0;34m\u001b[0m\u001b[0;34m\u001b[0m\u001b[0m\n",
      "\u001b[0;31mTypeError\u001b[0m: __init__() missing 2 required positional arguments: 'xdir' and 'ydir'"
     ]
    }
   ],
   "metadata": {}
  },
  {
   "cell_type": "code",
   "execution_count": 4,
   "source": [
    "%matplotlib auto\n",
    "import LogSpiralCalc as lgs\n",
    "log = lgs.LogSpiral(1, 4, 5, 30)\n",
    "log.update_theta_end()\n",
    "x0 = 0\n",
    "y0 = 1\n",
    "xdir = 1\n",
    "ydir = -0.5\n",
    "line = lgs.Line2D(x0, y0, xdir, ydir)\n",
    "\n",
    "print(log.theta_end)\n",
    "\n",
    "fig, ax = log.plot_log_spir()\n",
    "ax.set_aspect('equal')\n",
    "\n",
    "fig, ax = plt.subplots()\n",
    "ax.plot([x0, x0 + 2], [y0, y0+ydir/xdir*2], color = 'green', label='incoming', marker=' ')\n",
    "inter = lgs.Intersection(log, line)\n",
    "print(inter.return_scatter_coords())\n",
    "print(inter.return_precise_thetaint())\n",
    "fig, ax = inter.plot_intersection(fig, ax)\n",
    "\n",
    "\n",
    "x0 = 0\n",
    "y0 = 0\n",
    "xdir = 1\n",
    "ydir = 0.02\n",
    "line = lgs.Line2D(x0, y0, xdir, ydir)\n",
    "inter = lgs.Intersection(log, line)\n",
    "#fig, ax = inter.plot_intersection(fig, ax)\n",
    "ax.set_aspect('equal')\n",
    "ax.legend()\n",
    "fig.savefig('reflection_sample.pdf', bbox_inches='tight')"
   ],
   "outputs": [
    {
     "output_type": "stream",
     "name": "stdout",
     "text": [
      "Using matplotlib backend: Qt5Agg\n",
      "0.1219370783745738\n",
      "(1.8111629429078604, 0.09441852854608908)\n",
      "0.05208428915065764\n"
     ]
    }
   ],
   "metadata": {}
  },
  {
   "cell_type": "code",
   "execution_count": 16,
   "source": [],
   "outputs": [
    {
     "output_type": "execute_result",
     "data": {
      "text/plain": [
       "[[1, 3, 5], [2, 4, 6]]"
      ]
     },
     "metadata": {},
     "execution_count": 16
    }
   ],
   "metadata": {}
  }
 ],
 "metadata": {
  "kernelspec": {
   "name": "python3",
   "display_name": "Python 3.8.5 64-bit ('clean': conda)"
  },
  "language_info": {
   "codemirror_mode": {
    "name": "ipython",
    "version": 3
   },
   "file_extension": ".py",
   "mimetype": "text/x-python",
   "name": "python",
   "nbconvert_exporter": "python",
   "pygments_lexer": "ipython3",
   "version": "3.8.5"
  },
  "interpreter": {
   "hash": "59cd01910098d816fa2d15b4983a0efcbec4dd75a4bcd242d0d4fbf36b80f1ec"
  }
 },
 "nbformat": 4,
 "nbformat_minor": 4
}